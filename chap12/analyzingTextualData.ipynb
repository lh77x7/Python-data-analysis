{
 "cells": [
  {
   "cell_type": "code",
   "execution_count": 1,
   "id": "cd3c6eac",
   "metadata": {},
   "outputs": [
    {
     "name": "stdout",
     "output_type": "stream",
     "text": [
      "to jest test probny. zamienione zostaną wszystkie duze litery na male.\n"
     ]
    }
   ],
   "source": [
    "# analyzing textual Data\n",
    "\n",
    "# text normalization\n",
    "# input text\n",
    "paragraph=\"\"\"TO jest test probny. Zamienione zostaną WSZYSTKIE DUZE LItery na male.\"\"\"\n",
    "\n",
    "# converting paragraph in lowercase\n",
    "print(paragraph.lower())"
   ]
  },
  {
   "cell_type": "code",
   "execution_count": 5,
   "id": "8b386980",
   "metadata": {},
   "outputs": [
    {
     "name": "stderr",
     "output_type": "stream",
     "text": [
      "[nltk_data] Downloading package punkt to\n",
      "[nltk_data]     C:\\Users\\Admin\\AppData\\Roaming\\nltk_data...\n",
      "[nltk_data]   Package punkt is already up-to-date!\n",
      "[nltk_data] Downloading package stopwords to\n",
      "[nltk_data]     C:\\Users\\Admin\\AppData\\Roaming\\nltk_data...\n",
      "[nltk_data]   Package stopwords is already up-to-date!\n",
      "[nltk_data] Downloading package wordnet to\n",
      "[nltk_data]     C:\\Users\\Admin\\AppData\\Roaming\\nltk_data...\n",
      "[nltk_data]   Package wordnet is already up-to-date!\n",
      "[nltk_data] Downloading package averaged_perceptron_tagger to\n",
      "[nltk_data]     C:\\Users\\Admin\\AppData\\Roaming\\nltk_data...\n",
      "[nltk_data]   Unzipping taggers\\averaged_perceptron_tagger.zip.\n"
     ]
    },
    {
     "data": {
      "text/plain": [
       "True"
      ]
     },
     "execution_count": 5,
     "metadata": {},
     "output_type": "execute_result"
    }
   ],
   "source": [
    "# tokenization\n",
    "# loading NLTK module\n",
    "import nltk\n",
    "\n",
    "# downloading punkt\n",
    "nltk.download('punkt')\n",
    "\n",
    "# downloading stopwords\n",
    "nltk.download('stopwords')\n",
    "\n",
    "# downloading wordnet\n",
    "nltk.download('wordnet')\n",
    "\n",
    "# downloading average_perception_tagger\n",
    "nltk.download('averaged_perceptron_tagger')"
   ]
  },
  {
   "cell_type": "code",
   "execution_count": 13,
   "id": "8aed5b27",
   "metadata": {},
   "outputs": [
    {
     "name": "stdout",
     "output_type": "stream",
     "text": [
      "['Taj Mahal is one of the beautiful monuments.', 'It is one of the wonders of the world.', 'It was build by Shah Jahan is 1631 in memory of his third beloved wife Mumtaj Mahal.']\n"
     ]
    }
   ],
   "source": [
    "# sentence tokenization\n",
    "from nltk.tokenize import sent_tokenize\n",
    "\n",
    "paragraph = \"\"\"Taj Mahal is one of the beautiful monuments. \n",
    "It is one of the wonders of the world. \n",
    "It was build by Shah Jahan is 1631 in memory of his third beloved wife Mumtaj Mahal.\"\"\"\n",
    "\n",
    "tokenized_sentences = sent_tokenize(paragraph)\n",
    "print(tokenized_sentences)"
   ]
  },
  {
   "cell_type": "code",
   "execution_count": 17,
   "id": "2da34808",
   "metadata": {},
   "outputs": [
    {
     "name": "stdout",
     "output_type": "stream",
     "text": [
      "['Taj Mahal is one of the beautiful monuments.', '\\nIs is one of the wonders of the world.', 'Is was built by Shah Jahan.']\n"
     ]
    }
   ],
   "source": [
    "# import spacy\n",
    "import spacy\n",
    "\n",
    "# loading english language model\n",
    "nlp = spacy.load(\"en_core_web_sm\")\n",
    "\n",
    "# build the nlp pipe\n",
    "sent_pipe = nlp.create_pipe('sentencizer')\n",
    "\n",
    "# append the sentenzicer pipe to the npl pipeline\n",
    "paragraph = \"\"\"Taj Mahal is one of the beautiful monuments. \n",
    "Is is one of the wonders of the world. Is was built by Shah Jahan.\"\"\"\n",
    "\n",
    "# create nlp object to handle lingustic annotatations in a documents\n",
    "nlp_doc = nlp(paragraph)\n",
    "\n",
    "# generate list of tokenized sentence\n",
    "tokenized_sentences = []\n",
    "for sentence in nlp_doc.sents:\n",
    "    tokenized_sentences.append(sentence.text)\n",
    "print(tokenized_sentences)"
   ]
  },
  {
   "cell_type": "code",
   "execution_count": 18,
   "id": "f4ff3513",
   "metadata": {},
   "outputs": [
    {
     "name": "stdout",
     "output_type": "stream",
     "text": [
      "['Taj', 'Mahal', 'is', 'one', 'of', 'the', 'beautiful', 'monuments', '.', 'Is', 'is', 'one', 'of', 'the', 'wonders', 'of', 'the', 'world', '.', 'Is', 'was', 'built', 'by', 'Shah', 'Jahan', '.']\n"
     ]
    }
   ],
   "source": [
    "# import nltk word_tokenize method\n",
    "from nltk.tokenize import word_tokenize\n",
    "\n",
    "# split paragraph into words\n",
    "tokenized_words = word_tokenize(paragraph)\n",
    "print(tokenized_words)"
   ]
  },
  {
   "cell_type": "code",
   "execution_count": 19,
   "id": "4f58ed40",
   "metadata": {},
   "outputs": [
    {
     "data": {
      "text/plain": [
       "[('of', 3), ('the', 3), ('.', 3), ('is', 2), ('one', 2)]"
      ]
     },
     "execution_count": 19,
     "metadata": {},
     "output_type": "execute_result"
    }
   ],
   "source": [
    "# import frequence distribution\n",
    "from nltk.probability import FreqDist\n",
    "\n",
    "# find frequency distribution of paragraph\n",
    "fdisk = FreqDist(tokenized_words)\n",
    "\n",
    "# check top 5 common words\n",
    "fdisk.most_common(5)"
   ]
  },
  {
   "cell_type": "code",
   "execution_count": 21,
   "id": "3fc472ca",
   "metadata": {},
   "outputs": [
    {
     "data": {
      "image/png": "[encoded data removed]",
      "text/plain": [
       "<Figure size 432x288 with 1 Axes>"
      ]
     },
     "metadata": {
      "needs_background": "light"
     },
     "output_type": "display_data"
    }
   ],
   "source": [
    "# import matplotlib\n",
    "import matplotlib.pyplot as plt\n",
    "\n",
    "# plot frequency distribution\n",
    "fdisk.plot(20, cumulative=False)\n",
    "plt.show()"
   ]
  },
  {
   "cell_type": "code",
   "execution_count": null,
   "id": "4344013c",
   "metadata": {},
   "outputs": [],
   "source": []
  }
 ],
 "metadata": {
  "kernelspec": {
   "display_name": "Python 3 (ipykernel)",
   "language": "python",
   "name": "python3"
  },
  "language_info": {
   "codemirror_mode": {
    "name": "ipython",
    "version": 3
   },
   "file_extension": ".py",
   "mimetype": "text/x-python",
   "name": "python",
   "nbconvert_exporter": "python",
   "pygments_lexer": "ipython3",
   "version": "3.9.12"
  }
 },
 "nbformat": 4,
 "nbformat_minor": 5
}
