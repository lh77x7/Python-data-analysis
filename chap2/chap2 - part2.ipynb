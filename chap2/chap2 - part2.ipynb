{
 "cells": [
  {
   "cell_type": "code",
   "execution_count": 4,
   "id": "977aab3c",
   "metadata": {},
   "outputs": [],
   "source": [
    "import numpy as np"
   ]
  },
  {
   "cell_type": "code",
   "execution_count": 5,
   "id": "446b8f04",
   "metadata": {},
   "outputs": [],
   "source": [
    "# create numpy array using arange() function\n",
    "var1 = np.arange(1, 11, dtype='f')"
   ]
  },
  {
   "cell_type": "code",
   "execution_count": 6,
   "id": "167ecb02",
   "metadata": {},
   "outputs": [
    {
     "name": "stdout",
     "output_type": "stream",
     "text": [
      "[ 1.  2.  3.  4.  5.  6.  7.  8.  9. 10.]\n"
     ]
    }
   ],
   "source": [
    "print(var1)"
   ]
  },
  {
   "cell_type": "code",
   "execution_count": 7,
   "id": "5a54a73f",
   "metadata": {},
   "outputs": [
    {
     "name": "stdout",
     "output_type": "stream",
     "text": [
      "[1.+0.j 2.+0.j 3.+0.j 4.+0.j 5.+0.j]\n"
     ]
    }
   ],
   "source": [
    "print(np.arange(1, 6, dtype='D'))"
   ]
  },
  {
   "cell_type": "code",
   "execution_count": 8,
   "id": "b9386ff8",
   "metadata": {},
   "outputs": [
    {
     "name": "stdout",
     "output_type": "stream",
     "text": [
      "float64\n"
     ]
    }
   ],
   "source": [
    "# dtype constructors\n",
    "print(np.dtype(float))"
   ]
  },
  {
   "cell_type": "code",
   "execution_count": 9,
   "id": "eef1d0dd",
   "metadata": {},
   "outputs": [
    {
     "name": "stdout",
     "output_type": "stream",
     "text": [
      "float32\n"
     ]
    }
   ],
   "source": [
    "print(np.dtype('f'))"
   ]
  },
  {
   "cell_type": "code",
   "execution_count": 10,
   "id": "edb12737",
   "metadata": {},
   "outputs": [
    {
     "name": "stdout",
     "output_type": "stream",
     "text": [
      "float64\n"
     ]
    }
   ],
   "source": [
    "print(np.dtype('d'))"
   ]
  },
  {
   "cell_type": "code",
   "execution_count": 11,
   "id": "e2c83ce5",
   "metadata": {},
   "outputs": [
    {
     "name": "stdout",
     "output_type": "stream",
     "text": [
      "float64\n"
     ]
    }
   ],
   "source": [
    "print(np.dtype('f8'))"
   ]
  },
  {
   "cell_type": "code",
   "execution_count": 12,
   "id": "fb24f183",
   "metadata": {},
   "outputs": [],
   "source": [
    "# dtype attributes\n",
    "# create numpy array\n",
    "var2 = np.array([1, 2, 3], dtype = 'float64')"
   ]
  },
  {
   "cell_type": "code",
   "execution_count": 13,
   "id": "12bed352",
   "metadata": {},
   "outputs": [
    {
     "name": "stdout",
     "output_type": "stream",
     "text": [
      "d\n"
     ]
    }
   ],
   "source": [
    "print(var2.dtype.char)"
   ]
  },
  {
   "cell_type": "code",
   "execution_count": 14,
   "id": "965bf6ed",
   "metadata": {},
   "outputs": [
    {
     "name": "stdout",
     "output_type": "stream",
     "text": [
      "<class 'numpy.float64'>\n"
     ]
    }
   ],
   "source": [
    "print(var2.dtype.type)"
   ]
  },
  {
   "cell_type": "code",
   "execution_count": 15,
   "id": "c77d9934",
   "metadata": {},
   "outputs": [],
   "source": [
    "# manipulating array shapes\n",
    "\n",
    "# func. reshape()\n",
    "\n",
    "# create an array\n",
    "arr = np.arange(12)"
   ]
  },
  {
   "cell_type": "code",
   "execution_count": 16,
   "id": "7079088e",
   "metadata": {},
   "outputs": [
    {
     "name": "stdout",
     "output_type": "stream",
     "text": [
      "[ 0  1  2  3  4  5  6  7  8  9 10 11]\n"
     ]
    }
   ],
   "source": [
    "print(arr)"
   ]
  },
  {
   "cell_type": "code",
   "execution_count": 17,
   "id": "a8837391",
   "metadata": {},
   "outputs": [],
   "source": [
    "# reshape the array dimension\n",
    "new_arr = arr.reshape(4,3)"
   ]
  },
  {
   "cell_type": "code",
   "execution_count": 18,
   "id": "8c87f2b9",
   "metadata": {},
   "outputs": [
    {
     "name": "stdout",
     "output_type": "stream",
     "text": [
      "[[ 0  1  2]\n",
      " [ 3  4  5]\n",
      " [ 6  7  8]\n",
      " [ 9 10 11]]\n"
     ]
    }
   ],
   "source": [
    "print(new_arr)"
   ]
  },
  {
   "cell_type": "code",
   "execution_count": 19,
   "id": "52577940",
   "metadata": {},
   "outputs": [],
   "source": [
    "# reshape the array dimension\n",
    "new_arr2 = arr.reshape(3,4)"
   ]
  },
  {
   "cell_type": "code",
   "execution_count": 20,
   "id": "9b6074cf",
   "metadata": {},
   "outputs": [
    {
     "name": "stdout",
     "output_type": "stream",
     "text": [
      "[[ 0  1  2  3]\n",
      " [ 4  5  6  7]\n",
      " [ 8  9 10 11]]\n"
     ]
    }
   ],
   "source": [
    "print(new_arr2)"
   ]
  },
  {
   "cell_type": "code",
   "execution_count": 21,
   "id": "e15f8ffa",
   "metadata": {},
   "outputs": [],
   "source": [
    "# func. flattern - transform n-dimensional array into a \n",
    "# one-dimentional array\n",
    "\n",
    "# create an array\n",
    "arr = np.arange(1,10).reshape(3,3)"
   ]
  },
  {
   "cell_type": "code",
   "execution_count": 22,
   "id": "bab88145",
   "metadata": {},
   "outputs": [
    {
     "name": "stdout",
     "output_type": "stream",
     "text": [
      "[[1 2 3]\n",
      " [4 5 6]\n",
      " [7 8 9]]\n"
     ]
    }
   ],
   "source": [
    "print(arr)"
   ]
  },
  {
   "cell_type": "code",
   "execution_count": 23,
   "id": "9644f972",
   "metadata": {},
   "outputs": [
    {
     "name": "stdout",
     "output_type": "stream",
     "text": [
      "[1 2 3 4 5 6 7 8 9]\n"
     ]
    }
   ],
   "source": [
    "# flattern an array\n",
    "print(arr.flatten())"
   ]
  },
  {
   "cell_type": "code",
   "execution_count": 24,
   "id": "48b46c72",
   "metadata": {},
   "outputs": [
    {
     "name": "stdout",
     "output_type": "stream",
     "text": [
      "[[1 4 7]\n",
      " [2 5 8]\n",
      " [3 6 9]]\n"
     ]
    }
   ],
   "source": [
    "# func. transpose() - converting rows into columns\n",
    "# and columns into rows in the matrix\n",
    "print(arr.transpose())"
   ]
  },
  {
   "cell_type": "code",
   "execution_count": 25,
   "id": "5a17f0c2",
   "metadata": {},
   "outputs": [],
   "source": [
    "# the stacking of numPy arrays\n",
    "# stacking - joining the same dimensional arrays along with \n",
    "# a new axis\n",
    "arr1 = np.arange(1,10).reshape(3,3)"
   ]
  },
  {
   "cell_type": "code",
   "execution_count": 26,
   "id": "2926e679",
   "metadata": {},
   "outputs": [
    {
     "name": "stdout",
     "output_type": "stream",
     "text": [
      "[[1 2 3]\n",
      " [4 5 6]\n",
      " [7 8 9]]\n"
     ]
    }
   ],
   "source": [
    "print(arr1)"
   ]
  },
  {
   "cell_type": "code",
   "execution_count": 27,
   "id": "d95e6f48",
   "metadata": {},
   "outputs": [],
   "source": [
    "arr2 = 2*arr1"
   ]
  },
  {
   "cell_type": "code",
   "execution_count": 28,
   "id": "46eae223",
   "metadata": {},
   "outputs": [
    {
     "name": "stdout",
     "output_type": "stream",
     "text": [
      "[[ 2  4  6]\n",
      " [ 8 10 12]\n",
      " [14 16 18]]\n"
     ]
    }
   ],
   "source": [
    "print(arr2)"
   ]
  },
  {
   "cell_type": "code",
   "execution_count": 29,
   "id": "c5f0c4b1",
   "metadata": {},
   "outputs": [],
   "source": [
    "# horizontal stacking (axis x)\n",
    "arr3 = np.hstack((arr1, arr2))"
   ]
  },
  {
   "cell_type": "code",
   "execution_count": 30,
   "id": "f455877b",
   "metadata": {},
   "outputs": [
    {
     "name": "stdout",
     "output_type": "stream",
     "text": [
      "[[ 1  2  3  2  4  6]\n",
      " [ 4  5  6  8 10 12]\n",
      " [ 7  8  9 14 16 18]]\n"
     ]
    }
   ],
   "source": [
    "print(arr3)"
   ]
  },
  {
   "cell_type": "code",
   "execution_count": 31,
   "id": "686dad8f",
   "metadata": {},
   "outputs": [],
   "source": [
    "# vertical stacking - joing along the same dimensional\n",
    "# arrays vertically (axis y)\n",
    "arr5 = np.vstack((arr1, arr2))"
   ]
  },
  {
   "cell_type": "code",
   "execution_count": 32,
   "id": "0940ac44",
   "metadata": {},
   "outputs": [
    {
     "name": "stdout",
     "output_type": "stream",
     "text": [
      "[[ 1  2  3]\n",
      " [ 4  5  6]\n",
      " [ 7  8  9]\n",
      " [ 2  4  6]\n",
      " [ 8 10 12]\n",
      " [14 16 18]]\n"
     ]
    }
   ],
   "source": [
    "print(arr5)"
   ]
  },
  {
   "cell_type": "code",
   "execution_count": 33,
   "id": "b070e15c",
   "metadata": {},
   "outputs": [],
   "source": [
    "# depth stacking - the same dimensional arrays\n",
    "# are joined along with a third axis (depth) using\n",
    "# the dstack() function.\n",
    "arr7 = np.dstack((arr1, arr2))"
   ]
  },
  {
   "cell_type": "code",
   "execution_count": 34,
   "id": "1589bda4",
   "metadata": {},
   "outputs": [
    {
     "name": "stdout",
     "output_type": "stream",
     "text": [
      "[[[ 1  2]\n",
      "  [ 2  4]\n",
      "  [ 3  6]]\n",
      "\n",
      " [[ 4  8]\n",
      "  [ 5 10]\n",
      "  [ 6 12]]\n",
      "\n",
      " [[ 7 14]\n",
      "  [ 8 16]\n",
      "  [ 9 18]]]\n"
     ]
    }
   ],
   "source": [
    "print(arr7)"
   ]
  },
  {
   "cell_type": "code",
   "execution_count": 35,
   "id": "c526e042",
   "metadata": {},
   "outputs": [],
   "source": [
    "# column stacking - stack multiple sequence one-dimensional \n",
    "# arrays as columns into a single two-dimensional array.\n",
    "\n",
    "# create 1-D array\n",
    "arr1 = np.arange(4,7)"
   ]
  },
  {
   "cell_type": "code",
   "execution_count": 36,
   "id": "bf4955b8",
   "metadata": {},
   "outputs": [
    {
     "name": "stdout",
     "output_type": "stream",
     "text": [
      "[4 5 6]\n"
     ]
    }
   ],
   "source": [
    "print(arr1)"
   ]
  },
  {
   "cell_type": "code",
   "execution_count": 37,
   "id": "7626ea0f",
   "metadata": {},
   "outputs": [],
   "source": [
    "arr2 = arr1 * 2"
   ]
  },
  {
   "cell_type": "code",
   "execution_count": 38,
   "id": "ebffd156",
   "metadata": {},
   "outputs": [
    {
     "name": "stdout",
     "output_type": "stream",
     "text": [
      "[ 8 10 12]\n"
     ]
    }
   ],
   "source": [
    "print(arr2)"
   ]
  },
  {
   "cell_type": "code",
   "execution_count": 40,
   "id": "edbf3aa9",
   "metadata": {},
   "outputs": [],
   "source": [
    "# create column stack\n",
    "arr_col_stack = np.column_stack((arr1, arr2))"
   ]
  },
  {
   "cell_type": "code",
   "execution_count": 41,
   "id": "d060a443",
   "metadata": {},
   "outputs": [
    {
     "name": "stdout",
     "output_type": "stream",
     "text": [
      "[[ 4  8]\n",
      " [ 5 10]\n",
      " [ 6 12]]\n"
     ]
    }
   ],
   "source": [
    "print(arr_col_stack)"
   ]
  },
  {
   "cell_type": "code",
   "execution_count": 42,
   "id": "7b9eea03",
   "metadata": {},
   "outputs": [],
   "source": [
    "# row stacking - stacks multiple sequence one-dimensional\n",
    "# arrays as rows into a single two-dimensional arrays\n",
    "# create row stack\n",
    "arr_row_stack = np.row_stack((arr1, arr2))"
   ]
  },
  {
   "cell_type": "code",
   "execution_count": 43,
   "id": "1a13ef14",
   "metadata": {},
   "outputs": [
    {
     "name": "stdout",
     "output_type": "stream",
     "text": [
      "[[ 4  5  6]\n",
      " [ 8 10 12]]\n"
     ]
    }
   ],
   "source": [
    "print(arr_row_stack)"
   ]
  },
  {
   "cell_type": "code",
   "execution_count": 44,
   "id": "2f9bb48e",
   "metadata": {},
   "outputs": [],
   "source": [
    "# partitioning numPy arrays\n",
    "# horizontal splitting - in horizontal split, the given array is divided\n",
    "# into N equal sub-arrays along the horizonatal axis using the hsplit()\n",
    "\n",
    "# create an array\n",
    "arr = np.arange(1,10).reshape(3,3)"
   ]
  },
  {
   "cell_type": "code",
   "execution_count": 45,
   "id": "1cb6b102",
   "metadata": {},
   "outputs": [
    {
     "name": "stdout",
     "output_type": "stream",
     "text": [
      "[[1 2 3]\n",
      " [4 5 6]\n",
      " [7 8 9]]\n"
     ]
    }
   ],
   "source": [
    "print(arr)"
   ]
  },
  {
   "cell_type": "code",
   "execution_count": 46,
   "id": "48b95511",
   "metadata": {},
   "outputs": [],
   "source": [
    "arr_hor_split = np.hsplit(arr,3)"
   ]
  },
  {
   "cell_type": "code",
   "execution_count": 47,
   "id": "67e968f6",
   "metadata": {},
   "outputs": [
    {
     "name": "stdout",
     "output_type": "stream",
     "text": [
      "[array([[1],\n",
      "       [4],\n",
      "       [7]]), array([[2],\n",
      "       [5],\n",
      "       [8]]), array([[3],\n",
      "       [6],\n",
      "       [9]])]\n"
     ]
    }
   ],
   "source": [
    "print(arr_hor_split)"
   ]
  },
  {
   "cell_type": "code",
   "execution_count": 48,
   "id": "ef8fabed",
   "metadata": {},
   "outputs": [],
   "source": [
    "# vertical split, divide into N equal subarrays along the vertical axis\n",
    "# usign vsplit()\n",
    "\n",
    "# vertical split\n",
    "arr_ver_split = np.vsplit(arr,3)"
   ]
  },
  {
   "cell_type": "code",
   "execution_count": 49,
   "id": "65093adb",
   "metadata": {},
   "outputs": [
    {
     "name": "stdout",
     "output_type": "stream",
     "text": [
      "[array([[1, 2, 3]]), array([[4, 5, 6]]), array([[7, 8, 9]])]\n"
     ]
    }
   ],
   "source": [
    "print(arr_ver_split)"
   ]
  },
  {
   "cell_type": "code",
   "execution_count": 50,
   "id": "57de8e5f",
   "metadata": {},
   "outputs": [],
   "source": [
    "# changing the data type of NumPy arrays\n",
    "# create an array\n",
    "arr = np.arange(1,10).reshape(3,3)"
   ]
  },
  {
   "cell_type": "code",
   "execution_count": 51,
   "id": "09d8448b",
   "metadata": {},
   "outputs": [
    {
     "name": "stdout",
     "output_type": "stream",
     "text": [
      "Integer Array:  [[1 2 3]\n",
      " [4 5 6]\n",
      " [7 8 9]]\n"
     ]
    }
   ],
   "source": [
    "print(\"Integer Array: \", arr)"
   ]
  },
  {
   "cell_type": "code",
   "execution_count": 52,
   "id": "140bd324",
   "metadata": {},
   "outputs": [],
   "source": [
    "# change datatype of array\n",
    "arr = arr.astype(float)"
   ]
  },
  {
   "cell_type": "code",
   "execution_count": 53,
   "id": "0b797859",
   "metadata": {},
   "outputs": [
    {
     "name": "stdout",
     "output_type": "stream",
     "text": [
      "Float Array:  [[1. 2. 3.]\n",
      " [4. 5. 6.]\n",
      " [7. 8. 9.]]\n"
     ]
    }
   ],
   "source": [
    "# print array\n",
    "print(\"Float Array: \", arr)"
   ]
  },
  {
   "cell_type": "code",
   "execution_count": 54,
   "id": "dd9706e6",
   "metadata": {},
   "outputs": [
    {
     "name": "stdout",
     "output_type": "stream",
     "text": [
      "Changed Datatype:  float64\n"
     ]
    }
   ],
   "source": [
    "# check new data type of array\n",
    "print(\"Changed Datatype: \", arr.dtype)"
   ]
  },
  {
   "cell_type": "code",
   "execution_count": 55,
   "id": "b9b3ecf2",
   "metadata": {},
   "outputs": [],
   "source": [
    "# tolist() - function converts a NumPy array into a Python list\n",
    "\n",
    "# create an array\n",
    "arr = np.arange(1, 10)"
   ]
  },
  {
   "cell_type": "code",
   "execution_count": 56,
   "id": "28cc7688",
   "metadata": {},
   "outputs": [],
   "source": [
    "# convert NumPy array to Python list\n",
    "list1 = arr.tolist()"
   ]
  },
  {
   "cell_type": "code",
   "execution_count": 57,
   "id": "0ccb9c13",
   "metadata": {},
   "outputs": [
    {
     "name": "stdout",
     "output_type": "stream",
     "text": [
      "[1, 2, 3, 4, 5, 6, 7, 8, 9]\n"
     ]
    }
   ],
   "source": [
    "print(list1)"
   ]
  },
  {
   "cell_type": "code",
   "execution_count": 58,
   "id": "370044c5",
   "metadata": {},
   "outputs": [],
   "source": [
    "# creating NumPy view and copies\n",
    "# create an array\n",
    "arr = np.arange(1, 5).reshape(2,2)"
   ]
  },
  {
   "cell_type": "code",
   "execution_count": 59,
   "id": "ea6b20e1",
   "metadata": {},
   "outputs": [
    {
     "name": "stdout",
     "output_type": "stream",
     "text": [
      "[[1 2]\n",
      " [3 4]]\n"
     ]
    }
   ],
   "source": [
    "print(arr)"
   ]
  },
  {
   "cell_type": "code",
   "execution_count": 60,
   "id": "9768a3fa",
   "metadata": {},
   "outputs": [],
   "source": [
    "# create no copy only assignment\n",
    "arr_no_copy = arr"
   ]
  },
  {
   "cell_type": "code",
   "execution_count": 61,
   "id": "f9a654fb",
   "metadata": {},
   "outputs": [],
   "source": [
    "# create deep copy\n",
    "arr_copy = arr.copy()"
   ]
  },
  {
   "cell_type": "code",
   "execution_count": 62,
   "id": "5e8ec629",
   "metadata": {},
   "outputs": [],
   "source": [
    "# create shallow copy using View\n",
    "arr_view = arr.view()"
   ]
  },
  {
   "cell_type": "code",
   "execution_count": 65,
   "id": "b127565b",
   "metadata": {},
   "outputs": [
    {
     "name": "stdout",
     "output_type": "stream",
     "text": [
      "Orginal Array     :  1941841173168\n",
      "Assignment        :  1941841173168\n",
      "Deep Copy         :  1941841172976\n",
      "Shallow Copy(View):  1941850013296\n"
     ]
    }
   ],
   "source": [
    "print(\"Orginal Array     : \", id(arr))\n",
    "print(\"Assignment        : \", id(arr_no_copy))\n",
    "print(\"Deep Copy         : \", id(arr_copy))\n",
    "print(\"Shallow Copy(View): \", id(arr_view))"
   ]
  },
  {
   "cell_type": "code",
   "execution_count": 66,
   "id": "ace6cdf8",
   "metadata": {},
   "outputs": [],
   "source": [
    "# update the value of original array\n",
    "arr[1] = [98,99]"
   ]
  },
  {
   "cell_type": "code",
   "execution_count": 67,
   "id": "1053f295",
   "metadata": {},
   "outputs": [
    {
     "name": "stdout",
     "output_type": "stream",
     "text": [
      "View Array:\n",
      " [[ 1  2]\n",
      " [98 99]]\n"
     ]
    }
   ],
   "source": [
    "# check values of array view\n",
    "print(\"View Array:\\n\", arr_view)"
   ]
  },
  {
   "cell_type": "code",
   "execution_count": 68,
   "id": "4993f1f5",
   "metadata": {},
   "outputs": [
    {
     "name": "stdout",
     "output_type": "stream",
     "text": [
      "Copied Array:\n",
      " [[1 2]\n",
      " [3 4]]\n"
     ]
    }
   ],
   "source": [
    "# check values of array copy\n",
    "print(\"Copied Array:\\n\", arr_copy)"
   ]
  },
  {
   "cell_type": "code",
   "execution_count": 69,
   "id": "e985bf5d",
   "metadata": {},
   "outputs": [],
   "source": [
    "# slicing arrays\n",
    "arr = np.arange(0, 10)"
   ]
  },
  {
   "cell_type": "code",
   "execution_count": 70,
   "id": "f0bbd650",
   "metadata": {},
   "outputs": [
    {
     "name": "stdout",
     "output_type": "stream",
     "text": [
      "[0 1 2 3 4 5 6 7 8 9]\n"
     ]
    }
   ],
   "source": [
    "print(arr)"
   ]
  },
  {
   "cell_type": "code",
   "execution_count": 71,
   "id": "a5aa303c",
   "metadata": {},
   "outputs": [
    {
     "name": "stdout",
     "output_type": "stream",
     "text": [
      "[3 4 5]\n"
     ]
    }
   ],
   "source": [
    "print(arr[3:6])"
   ]
  },
  {
   "cell_type": "code",
   "execution_count": 72,
   "id": "29508ecd",
   "metadata": {},
   "outputs": [
    {
     "name": "stdout",
     "output_type": "stream",
     "text": [
      "[3 4 5 6 7 8 9]\n"
     ]
    }
   ],
   "source": [
    "print(arr[3:])"
   ]
  },
  {
   "cell_type": "code",
   "execution_count": 73,
   "id": "e1c3122d",
   "metadata": {},
   "outputs": [
    {
     "name": "stdout",
     "output_type": "stream",
     "text": [
      "[7 8 9]\n"
     ]
    }
   ],
   "source": [
    "print(arr[-3:])"
   ]
  },
  {
   "cell_type": "code",
   "execution_count": 74,
   "id": "fe4b161d",
   "metadata": {},
   "outputs": [
    {
     "name": "stdout",
     "output_type": "stream",
     "text": [
      "[2 4 6]\n"
     ]
    }
   ],
   "source": [
    "print(arr[2:7:2])"
   ]
  },
  {
   "cell_type": "code",
   "execution_count": 75,
   "id": "60ebe5ff",
   "metadata": {},
   "outputs": [
    {
     "name": "stdout",
     "output_type": "stream",
     "text": [
      "Orginal Array:\n",
      " [21 23 25 27 29 31 33 35 37 39]\n",
      "After boolean condition:  [31 33 35 37 39]\n"
     ]
    }
   ],
   "source": [
    "# boolean and fancy indexing\n",
    "arr = np.arange(21,41,2)\n",
    "print(\"Orginal Array:\\n\", arr)\n",
    "\n",
    "# boolean indexing\n",
    "print(\"After boolean condition: \", arr[arr>30])"
   ]
  },
  {
   "cell_type": "code",
   "execution_count": 76,
   "id": "b36b9169",
   "metadata": {},
   "outputs": [
    {
     "name": "stdout",
     "output_type": "stream",
     "text": [
      "Orginal Array:\n",
      " [[ 1  2  3  4]\n",
      " [ 5  6  7  8]\n",
      " [ 9 10 11 12]\n",
      " [13 14 15 16]\n",
      " [17 18 19 20]]\n",
      "Selected 1st and 2nd row:\n",
      " [[ 5  6  7  8]\n",
      " [ 9 10 11 12]]\n",
      "Selected 2nd and 3rd row:\n",
      " [[ 9 10 11 12]\n",
      " [13 14 15 16]]\n"
     ]
    }
   ],
   "source": [
    "arr = np.arange(1,21).reshape(5,4)\n",
    "print(\"Orginal Array:\\n\", arr)\n",
    "\n",
    "# selecting 2nd and 3rd row\n",
    "indices = [1,2]\n",
    "print(\"Selected 1st and 2nd row:\\n\", arr[indices])\n",
    "\n",
    "# selecting 3rd and 4th row\n",
    "indices = [2,3]\n",
    "print(\"Selected 2nd and 3rd row:\\n\", arr[indices])"
   ]
  },
  {
   "cell_type": "code",
   "execution_count": 80,
   "id": "76a3a8c8",
   "metadata": {},
   "outputs": [
    {
     "name": "stdout",
     "output_type": "stream",
     "text": [
      "arr1 =\n",
      " [[1 2]\n",
      " [3 4]]\n",
      "arr2 = \n",
      " [[5 6]\n",
      " [7 8]]\n",
      "arr1 + arr2 = \n",
      " [[ 6  8]\n",
      " [10 12]]\n",
      "arr1 + arr2 = \n",
      " [[ 5 12]\n",
      " [21 32]]\n",
      "arr1 + 3 = \n",
      " [[4 5]\n",
      " [6 7]]\n",
      "arr1 * 3 = \n",
      " [[ 3  6]\n",
      " [ 9 12]]\n"
     ]
    }
   ],
   "source": [
    "# broadcasting arrays\n",
    "arr1 = np.arange(1,5).reshape(2,2)\n",
    "print(\"arr1 =\\n\", arr1)\n",
    "\n",
    "arr2 = np.arange(5,9).reshape(2,2)\n",
    "print(\"arr2 = \\n\", arr2)\n",
    "\n",
    "# add two matrices\n",
    "print(\"arr1 + arr2 = \\n\", arr1+arr2)\n",
    "\n",
    "# multiply two matrices\n",
    "print(\"arr1 + arr2 = \\n\", arr1*arr2)\n",
    "\n",
    "# add a scalar value\n",
    "print(\"arr1 + 3 = \\n\", arr1+3)\n",
    "\n",
    "#multiply with a scalar value\n",
    "print(\"arr1 * 3 = \\n\", arr1*3)"
   ]
  },
  {
   "cell_type": "code",
   "execution_count": null,
   "id": "a056c6cc",
   "metadata": {},
   "outputs": [],
   "source": []
  }
 ],
 "metadata": {
  "kernelspec": {
   "display_name": "Python 3 (ipykernel)",
   "language": "python",
   "name": "python3"
  },
  "language_info": {
   "codemirror_mode": {
    "name": "ipython",
    "version": 3
   },
   "file_extension": ".py",
   "mimetype": "text/x-python",
   "name": "python",
   "nbconvert_exporter": "python",
   "pygments_lexer": "ipython3",
   "version": "3.9.12"
  }
 },
 "nbformat": 4,
 "nbformat_minor": 5
}
