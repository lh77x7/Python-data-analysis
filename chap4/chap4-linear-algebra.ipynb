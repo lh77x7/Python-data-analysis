{
 "cells": [
  {
   "cell_type": "code",
   "execution_count": 1,
   "id": "71e3c708",
   "metadata": {},
   "outputs": [
    {
     "data": {
      "image/png": "[encoded data removed]",
      "text/plain": [
       "<Figure size 432x288 with 1 Axes>"
      ]
     },
     "metadata": {
      "needs_background": "light"
     },
     "output_type": "display_data"
    }
   ],
   "source": [
    "### fitting to polynomials with NumPy\n",
    "\n",
    "# import required libraries NumPy, polynomial and matplotlib \n",
    "import numpy as np\n",
    "import matplotlib.pyplot as plt\n",
    "\n",
    "# generate two random vectors\n",
    "v1 = np.random.rand(10)\n",
    "v2 = np.random.rand(10)\n",
    "\n",
    "# create a sequence of equally separated values\n",
    "sequence = np.linspace(v1.min(), v1.max(), num=len(v1)*10)\n",
    "\n",
    "# fit the data to polynomial fit data with 4 degrees of the polynomial\n",
    "coefs = np.polyfit(v1, v2, 3)\n",
    "\n",
    "# evaluate polynomial on given sequence\n",
    "polynomial_sequence = np.polyval(coefs, sequence)\n",
    "\n",
    "# plot the polynomial curve\n",
    "plt.plot(sequence, polynomial_sequence)\n",
    "\n",
    "# show plot\n",
    "plt.show()"
   ]
  },
  {
   "cell_type": "code",
   "execution_count": 2,
   "id": "a34adfc0",
   "metadata": {},
   "outputs": [
    {
     "name": "stdout",
     "output_type": "stream",
     "text": [
      "Matrix:\n",
      " [[2 4]\n",
      " [5 7]]\n",
      "Determinant: -5.999999999999998\n"
     ]
    }
   ],
   "source": [
    "# determinant\n",
    "\n",
    "# import numpy \n",
    "import numpy as np\n",
    "\n",
    "# create matrix using NumPy\n",
    "mat = np.mat([[2,4], [5,7]])\n",
    "print(\"Matrix:\\n\", mat)\n",
    "\n",
    "# calculate determinant\n",
    "print(\"Determinant:\", np.linalg.det(mat))\n",
    "\n",
    "\n"
   ]
  },
  {
   "cell_type": "code",
   "execution_count": 3,
   "id": "177f75bc",
   "metadata": {},
   "outputs": [
    {
     "name": "stdout",
     "output_type": "stream",
     "text": [
      "Matrix: \n",
      " [[5 3 1]\n",
      " [5 3 1]\n",
      " [1 0 5]]\n",
      "Rank: 2\n"
     ]
    }
   ],
   "source": [
    "# matrix rank\n",
    "\n",
    "# import required libraries\n",
    "import numpy as np\n",
    "from numpy.linalg import matrix_rank\n",
    "\n",
    "# create matrix\n",
    "mat = np.array([[5,3,1],[5,3,1],[1,0,5]])\n",
    "\n",
    "# compute rank of matrix\n",
    "print(\"Matrix: \\n\", mat)\n",
    "print(\"Rank:\", matrix_rank(mat))"
   ]
  },
  {
   "cell_type": "code",
   "execution_count": 4,
   "id": "ef3b50f6",
   "metadata": {},
   "outputs": [
    {
     "name": "stdout",
     "output_type": "stream",
     "text": [
      "Input Matrix:\n",
      " [[2 4]\n",
      " [5 7]]\n",
      "Inverse:\n",
      " [[-1.16666667  0.66666667]\n",
      " [ 0.83333333 -0.33333333]]\n"
     ]
    }
   ],
   "source": [
    "# inverse matrix\n",
    "\n",
    "# import numpy\n",
    "import numpy as np\n",
    "\n",
    "# create matrix using NumPy\n",
    "mat = np.mat([[2,4], [5,7]])\n",
    "print(\"Input Matrix:\\n\", mat)\n",
    "\n",
    "# find matrix inverse\n",
    "inverse = np.linalg.inv(mat)\n",
    "print(\"Inverse:\\n\", inverse)\n",
    "\n"
   ]
  },
  {
   "cell_type": "code",
   "execution_count": 5,
   "id": "ba7bdac2",
   "metadata": {},
   "outputs": [
    {
     "name": "stdout",
     "output_type": "stream",
     "text": [
      "Matrix A:\n",
      " [[1 1]\n",
      " [3 2]]\n",
      "Vector B: [200 450]\n"
     ]
    }
   ],
   "source": [
    "# solving linear equations\n",
    "\n",
    "# create matrix A and vector B using NumPy\n",
    "A = np.mat([[1,1],[3,2]])\n",
    "print(\"Matrix A:\\n\", A)\n",
    "\n",
    "B = np.array([200, 450])\n",
    "print(\"Vector B:\", B)\n",
    "\n"
   ]
  },
  {
   "cell_type": "code",
   "execution_count": 6,
   "id": "fcac7ee1",
   "metadata": {},
   "outputs": [
    {
     "name": "stdout",
     "output_type": "stream",
     "text": [
      "Solution vector x: [ 50. 150.]\n"
     ]
    }
   ],
   "source": [
    "# solve linear equations\n",
    "solution = np.linalg.solve(A, B)\n",
    "print(\"Solution vector x:\", solution)"
   ]
  },
  {
   "cell_type": "code",
   "execution_count": 7,
   "id": "46678318",
   "metadata": {},
   "outputs": [
    {
     "name": "stdout",
     "output_type": "stream",
     "text": [
      "Result: [[200. 450.]]\n"
     ]
    }
   ],
   "source": [
    "# check the solution\n",
    "print(\"Result:\", np.dot(A, solution))"
   ]
  },
  {
   "cell_type": "code",
   "execution_count": 9,
   "id": "37390152",
   "metadata": {},
   "outputs": [
    {
     "name": "stdout",
     "output_type": "stream",
     "text": [
      "Left Singular Matrix:  [[-6.78452471e-01 -1.99254219e-01 -7.07106781e-01]\n",
      " [-6.78452471e-01 -1.99254219e-01  7.07106781e-01]\n",
      " [-2.81788019e-01  9.59476687e-01  1.05433742e-16]]\n",
      "Diagonal Matrix:  [8.61123648e+00 4.67403534e+00 1.72212145e-16]\n",
      "Right Singular Matrix:  [[-0.82059211 -0.47272129 -0.32119023]\n",
      " [-0.22102219 -0.25578012  0.94113002]\n",
      " [ 0.52704628 -0.84327404 -0.10540926]]\n"
     ]
    }
   ],
   "source": [
    "# decomposing a matrix using SVD\n",
    "\n",
    "# import required libraries\n",
    "import numpy as np\n",
    "from scipy.linalg import svd\n",
    "\n",
    "# create a matrix\n",
    "mat = np.array([[5,3,1],[5,3,1],[1,0,5]])\n",
    "\n",
    "# perform matrix decomposition using SVD\n",
    "U, Sigma, V_transpose = svd(mat)\n",
    "\n",
    "print(\"Left Singular Matrix: \", U)\n",
    "print(\"Diagonal Matrix: \", Sigma)\n",
    "print(\"Right Singular Matrix: \", V_transpose)"
   ]
  },
  {
   "cell_type": "code",
   "execution_count": null,
   "id": "b0830fb7",
   "metadata": {},
   "outputs": [],
   "source": []
  }
 ],
 "metadata": {
  "kernelspec": {
   "display_name": "Python 3 (ipykernel)",
   "language": "python",
   "name": "python3"
  },
  "language_info": {
   "codemirror_mode": {
    "name": "ipython",
    "version": 3
   },
   "file_extension": ".py",
   "mimetype": "text/x-python",
   "name": "python",
   "nbconvert_exporter": "python",
   "pygments_lexer": "ipython3",
   "version": "3.9.12"
  }
 },
 "nbformat": 4,
 "nbformat_minor": 5
}
