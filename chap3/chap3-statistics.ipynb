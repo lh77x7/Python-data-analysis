{
 "cells": [
  {
   "cell_type": "code",
   "execution_count": 2,
   "id": "d61f6982",
   "metadata": {},
   "outputs": [
    {
     "data": {
      "text/plain": [
       "44.0"
      ]
     },
     "execution_count": 2,
     "metadata": {},
     "output_type": "execute_result"
    }
   ],
   "source": [
    "# import pandas library\n",
    "import pandas as pd\n",
    "\n",
    "# create dataframe\n",
    "sample_data = {'name': ['John', 'Alia', 'Anna', 'Monika', 'Sylwia'],\n",
    "             'gender': ['M', 'F', 'F', 'F', 'F'],\n",
    "             'communication_skill_score': [30, 40, 45, 50, 55],\n",
    "             'quantitative_skill_score': [38, 41, 42, 48, 32]}\n",
    "data = pd.DataFrame(sample_data, columns=['name', 'gender','communication_skill_score', 'quantitative_skill_score'])\n",
    "\n",
    "# find mean of communication_skill_score column\n",
    "data['communication_skill_score'].mean(axis=0)"
   ]
  },
  {
   "cell_type": "code",
   "execution_count": 8,
   "id": "14349eab",
   "metadata": {},
   "outputs": [
    {
     "data": {
      "text/plain": [
       "0    30\n",
       "1    40\n",
       "2    45\n",
       "3    50\n",
       "4    55\n",
       "Name: communication_skill_score, dtype: int64"
      ]
     },
     "execution_count": 8,
     "metadata": {},
     "output_type": "execute_result"
    }
   ],
   "source": [
    "# find mode of communication_skill_score column\n",
    "data['communication_skill_score'].mode()"
   ]
  },
  {
   "cell_type": "code",
   "execution_count": 9,
   "id": "0c40e6a6",
   "metadata": {},
   "outputs": [
    {
     "data": {
      "text/plain": [
       "45.0"
      ]
     },
     "execution_count": 9,
     "metadata": {},
     "output_type": "execute_result"
    }
   ],
   "source": [
    "# find median of communication_skill_score column\n",
    "data['communication_skill_score'].median()"
   ]
  },
  {
   "cell_type": "code",
   "execution_count": 11,
   "id": "d2ce1375",
   "metadata": {},
   "outputs": [
    {
     "name": "stdout",
     "output_type": "stream",
     "text": [
      "25\n"
     ]
    }
   ],
   "source": [
    "# measuring dispersion\n",
    "column_range=data['communication_skill_score'].max()-data['communication_skill_score'].min()\n",
    "print(column_range)"
   ]
  },
  {
   "cell_type": "code",
   "execution_count": 12,
   "id": "29b4da64",
   "metadata": {},
   "outputs": [
    {
     "name": "stdout",
     "output_type": "stream",
     "text": [
      "10.0\n"
     ]
    }
   ],
   "source": [
    "# first Quartile\n",
    "q1 = data['communication_skill_score'].quantile(.25)\n",
    "\n",
    "# third Quartile\n",
    "q3 = data['communication_skill_score'].quantile(.75)\n",
    "\n",
    "# inter Quartile Ratio\n",
    "iqr = q3 - q1\n",
    "print(iqr)"
   ]
  },
  {
   "cell_type": "code",
   "execution_count": 13,
   "id": "a5d3a69b",
   "metadata": {},
   "outputs": [
    {
     "data": {
      "text/plain": [
       "92.5"
      ]
     },
     "execution_count": 13,
     "metadata": {},
     "output_type": "execute_result"
    }
   ],
   "source": [
    "# variance of communication_skill_score\n",
    "data['communication_skill_score'].var()"
   ]
  },
  {
   "cell_type": "code",
   "execution_count": 14,
   "id": "12b6e8f0",
   "metadata": {},
   "outputs": [
    {
     "data": {
      "text/plain": [
       "9.617692030835672"
      ]
     },
     "execution_count": 14,
     "metadata": {},
     "output_type": "execute_result"
    }
   ],
   "source": [
    "# standard deviation of communication_skill_score\n",
    "data['communication_skill_score'].std()"
   ]
  },
  {
   "cell_type": "code",
   "execution_count": 15,
   "id": "67568007",
   "metadata": {},
   "outputs": [
    {
     "data": {
      "text/html": [
       "<div>\n",
       "<style scoped>\n",
       "    .dataframe tbody tr th:only-of-type {\n",
       "        vertical-align: middle;\n",
       "    }\n",
       "\n",
       "    .dataframe tbody tr th {\n",
       "        vertical-align: top;\n",
       "    }\n",
       "\n",
       "    .dataframe thead th {\n",
       "        text-align: right;\n",
       "    }\n",
       "</style>\n",
       "<table border=\"1\" class=\"dataframe\">\n",
       "  <thead>\n",
       "    <tr style=\"text-align: right;\">\n",
       "      <th></th>\n",
       "      <th>communication_skill_score</th>\n",
       "      <th>quantitative_skill_score</th>\n",
       "    </tr>\n",
       "  </thead>\n",
       "  <tbody>\n",
       "    <tr>\n",
       "      <th>count</th>\n",
       "      <td>5.000000</td>\n",
       "      <td>5.000000</td>\n",
       "    </tr>\n",
       "    <tr>\n",
       "      <th>mean</th>\n",
       "      <td>44.000000</td>\n",
       "      <td>40.200000</td>\n",
       "    </tr>\n",
       "    <tr>\n",
       "      <th>std</th>\n",
       "      <td>9.617692</td>\n",
       "      <td>5.848077</td>\n",
       "    </tr>\n",
       "    <tr>\n",
       "      <th>min</th>\n",
       "      <td>30.000000</td>\n",
       "      <td>32.000000</td>\n",
       "    </tr>\n",
       "    <tr>\n",
       "      <th>25%</th>\n",
       "      <td>40.000000</td>\n",
       "      <td>38.000000</td>\n",
       "    </tr>\n",
       "    <tr>\n",
       "      <th>50%</th>\n",
       "      <td>45.000000</td>\n",
       "      <td>41.000000</td>\n",
       "    </tr>\n",
       "    <tr>\n",
       "      <th>75%</th>\n",
       "      <td>50.000000</td>\n",
       "      <td>42.000000</td>\n",
       "    </tr>\n",
       "    <tr>\n",
       "      <th>max</th>\n",
       "      <td>55.000000</td>\n",
       "      <td>48.000000</td>\n",
       "    </tr>\n",
       "  </tbody>\n",
       "</table>\n",
       "</div>"
      ],
      "text/plain": [
       "       communication_skill_score  quantitative_skill_score\n",
       "count                   5.000000                  5.000000\n",
       "mean                   44.000000                 40.200000\n",
       "std                     9.617692                  5.848077\n",
       "min                    30.000000                 32.000000\n",
       "25%                    40.000000                 38.000000\n",
       "50%                    45.000000                 41.000000\n",
       "75%                    50.000000                 42.000000\n",
       "max                    55.000000                 48.000000"
      ]
     },
     "execution_count": 15,
     "metadata": {},
     "output_type": "execute_result"
    }
   ],
   "source": [
    "# discribe dataframe\n",
    "data.describe()"
   ]
  },
  {
   "cell_type": "code",
   "execution_count": 3,
   "id": "5ca83c78",
   "metadata": {},
   "outputs": [
    {
     "data": {
      "text/plain": [
       "-0.5901286563843656"
      ]
     },
     "execution_count": 3,
     "metadata": {},
     "output_type": "execute_result"
    }
   ],
   "source": [
    "#skewness of communication_skill_score column\n",
    "data['communication_skill_score'].skew()"
   ]
  },
  {
   "cell_type": "code",
   "execution_count": 4,
   "id": "f9af099e",
   "metadata": {},
   "outputs": [
    {
     "data": {
      "text/plain": [
       "-0.02191380569758916"
      ]
     },
     "execution_count": 4,
     "metadata": {},
     "output_type": "execute_result"
    }
   ],
   "source": [
    "# kurtosis of communication_skill_score column\n",
    "data['communication_skill_score'].kurtosis()"
   ]
  },
  {
   "cell_type": "code",
   "execution_count": 5,
   "id": "50799af4",
   "metadata": {},
   "outputs": [
    {
     "data": {
      "text/html": [
       "<div>\n",
       "<style scoped>\n",
       "    .dataframe tbody tr th:only-of-type {\n",
       "        vertical-align: middle;\n",
       "    }\n",
       "\n",
       "    .dataframe tbody tr th {\n",
       "        vertical-align: top;\n",
       "    }\n",
       "\n",
       "    .dataframe thead th {\n",
       "        text-align: right;\n",
       "    }\n",
       "</style>\n",
       "<table border=\"1\" class=\"dataframe\">\n",
       "  <thead>\n",
       "    <tr style=\"text-align: right;\">\n",
       "      <th></th>\n",
       "      <th>communication_skill_score</th>\n",
       "      <th>quantitative_skill_score</th>\n",
       "    </tr>\n",
       "  </thead>\n",
       "  <tbody>\n",
       "    <tr>\n",
       "      <th>communication_skill_score</th>\n",
       "      <td>92.5</td>\n",
       "      <td>-3.5</td>\n",
       "    </tr>\n",
       "    <tr>\n",
       "      <th>quantitative_skill_score</th>\n",
       "      <td>-3.5</td>\n",
       "      <td>34.2</td>\n",
       "    </tr>\n",
       "  </tbody>\n",
       "</table>\n",
       "</div>"
      ],
      "text/plain": [
       "                           communication_skill_score  quantitative_skill_score\n",
       "communication_skill_score                       92.5                      -3.5\n",
       "quantitative_skill_score                        -3.5                      34.2"
      ]
     },
     "execution_count": 5,
     "metadata": {},
     "output_type": "execute_result"
    }
   ],
   "source": [
    "# covariance between columns of dataframe\n",
    "data.cov()"
   ]
  },
  {
   "cell_type": "code",
   "execution_count": 6,
   "id": "e29ae600",
   "metadata": {},
   "outputs": [
    {
     "data": {
      "text/html": [
       "<div>\n",
       "<style scoped>\n",
       "    .dataframe tbody tr th:only-of-type {\n",
       "        vertical-align: middle;\n",
       "    }\n",
       "\n",
       "    .dataframe tbody tr th {\n",
       "        vertical-align: top;\n",
       "    }\n",
       "\n",
       "    .dataframe thead th {\n",
       "        text-align: right;\n",
       "    }\n",
       "</style>\n",
       "<table border=\"1\" class=\"dataframe\">\n",
       "  <thead>\n",
       "    <tr style=\"text-align: right;\">\n",
       "      <th></th>\n",
       "      <th>communication_skill_score</th>\n",
       "      <th>quantitative_skill_score</th>\n",
       "    </tr>\n",
       "  </thead>\n",
       "  <tbody>\n",
       "    <tr>\n",
       "      <th>communication_skill_score</th>\n",
       "      <td>1.000000</td>\n",
       "      <td>-0.062228</td>\n",
       "    </tr>\n",
       "    <tr>\n",
       "      <th>quantitative_skill_score</th>\n",
       "      <td>-0.062228</td>\n",
       "      <td>1.000000</td>\n",
       "    </tr>\n",
       "  </tbody>\n",
       "</table>\n",
       "</div>"
      ],
      "text/plain": [
       "                           communication_skill_score  quantitative_skill_score\n",
       "communication_skill_score                   1.000000                 -0.062228\n",
       "quantitative_skill_score                   -0.062228                  1.000000"
      ]
     },
     "execution_count": 6,
     "metadata": {},
     "output_type": "execute_result"
    }
   ],
   "source": [
    "# correlation between columns of dataframe\n",
    "data.corr(method='pearson')"
   ]
  },
  {
   "cell_type": "code",
   "execution_count": 10,
   "id": "a5666ee0",
   "metadata": {},
   "outputs": [
    {
     "name": "stdout",
     "output_type": "stream",
     "text": [
      "Mean:  70.5\n"
     ]
    }
   ],
   "source": [
    "##### Performing parametric tests #####\n",
    "import numpy as np\n",
    "from scipy.stats import ttest_1samp\n",
    "\n",
    "# create data\n",
    "data = np.array([63, 75, 84, 58, 52, 96, 63, 55, 76, 83])\n",
    "\n",
    "# find mean\n",
    "mean_value = np.mean(data)\n",
    "\n",
    "print(\"Mean: \", mean_value)"
   ]
  },
  {
   "cell_type": "code",
   "execution_count": 11,
   "id": "7877ab1a",
   "metadata": {},
   "outputs": [
    {
     "name": "stdout",
     "output_type": "stream",
     "text": [
      "P Value:  0.5986851106160134\n",
      "t-test Value:  0.5454725779039431\n",
      "Hipothesis Accepted\n"
     ]
    }
   ],
   "source": [
    "# perform one-sample t-test\n",
    "t_test_value, p_value = ttest_1samp(data, 68)\n",
    "\n",
    "print(\"P Value: \", p_value)\n",
    "\n",
    "print(\"t-test Value: \", t_test_value)\n",
    "\n",
    "# 0.05 or 5 % is significance level or alpha\n",
    "if p_value < 0.05:\n",
    "    print(\"Hipothesis Rejected\")\n",
    "else:\n",
    "    print(\"Hipothesis Accepted\")\n",
    "        "
   ]
  },
  {
   "cell_type": "code",
   "execution_count": 12,
   "id": "f63d5aab",
   "metadata": {},
   "outputs": [
    {
     "name": "stdout",
     "output_type": "stream",
     "text": [
      "p_value:  0.015170931362451255\n",
      "t_test:  2.6835879913819185\n",
      "Hypothesis Rejected\n"
     ]
    }
   ],
   "source": [
    "from scipy.stats import ttest_ind\n",
    "\n",
    "# create numpy arrays\n",
    "data1 = np.array([63, 75, 84, 58, 52, 96, 63, 55, 76, 83])\n",
    "\n",
    "data2 = np.array([53, 43, 31, 113, 33, 57, 27, 23, 24, 43])\n",
    "\n",
    "# compare samples\n",
    "stat, p = ttest_ind(data1, data2)\n",
    "\n",
    "print(\"p_value: \", p)\n",
    "\n",
    "print(\"t_test: \", stat)\n",
    "\n",
    "# 0.05 or 5 % is the significance level of alpha\n",
    "if p < 0.05:\n",
    "    print(\"Hypothesis Rejected\")\n",
    "else:\n",
    "    print(\"Hypotesis Accepted\")"
   ]
  },
  {
   "cell_type": "code",
   "execution_count": 13,
   "id": "65a1a4d6",
   "metadata": {},
   "outputs": [],
   "source": [
    "from scipy.stats import f_oneway\n",
    "\n",
    "# performance scores of Mumbai location\n",
    "mumbai = [0.14730927, 0.59168541, 0.85677052, 0.27315387, 0.78591207, 0.52426114, \n",
    "         0.05007655, 0.64405363, 0.9825853, 0.62667439]\n",
    "\n",
    "# performance scores of Chicago location\n",
    "chicago = [0.99140754, 0.76960782, 0.51370154, 0.85041028, 0.19485391, 0.25269917,\n",
    "          0.19925735, 0.80048387, 0.98381235, 0.5864963]\n",
    "\n",
    "# performace scores of London location\n",
    "london = [0.40382226, 0.51613408, 0.39374473, 0.0689976, 0.28035865, 0.56326686,\n",
    "         0.66735357, 0.06786065, 0.21013306, 0.86503358]\n"
   ]
  },
  {
   "cell_type": "code",
   "execution_count": 14,
   "id": "87ec2686",
   "metadata": {},
   "outputs": [
    {
     "name": "stdout",
     "output_type": "stream",
     "text": [
      "p-value: 0.27667556390705783\n",
      "ANOVA: 1.3480446381965452\n",
      "Hypothesis Accepted\n"
     ]
    }
   ],
   "source": [
    "# compare results using Oneway ANOVA\n",
    "stat, p = f_oneway(mumbai, chicago, london)\n",
    "\n",
    "print(\"p-value:\", p)\n",
    "\n",
    "print(\"ANOVA:\", stat)\n",
    "\n",
    "if p < 0.05:\n",
    "    print(\"Hypothesis Rejected\")\n",
    "else:\n",
    "    print(\"Hypothesis Accepted\")"
   ]
  },
  {
   "cell_type": "code",
   "execution_count": null,
   "id": "4c5d68a4",
   "metadata": {},
   "outputs": [],
   "source": [
    "#### Performing non-parametric tests ####\n",
    "\n",
    "## next time"
   ]
  }
 ],
 "metadata": {
  "kernelspec": {
   "display_name": "Python 3 (ipykernel)",
   "language": "python",
   "name": "python3"
  },
  "language_info": {
   "codemirror_mode": {
    "name": "ipython",
    "version": 3
   },
   "file_extension": ".py",
   "mimetype": "text/x-python",
   "name": "python",
   "nbconvert_exporter": "python",
   "pygments_lexer": "ipython3",
   "version": "3.9.12"
  }
 },
 "nbformat": 4,
 "nbformat_minor": 5
}
