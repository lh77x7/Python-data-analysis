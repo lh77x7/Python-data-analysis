{
 "cells": [
  {
   "cell_type": "code",
   "execution_count": 5,
   "id": "d61f6982",
   "metadata": {},
   "outputs": [
    {
     "data": {
      "text/plain": [
       "44.0"
      ]
     },
     "execution_count": 5,
     "metadata": {},
     "output_type": "execute_result"
    }
   ],
   "source": [
    "# import pandas library\n",
    "import pandas as pd\n",
    "\n",
    "# create dataframe\n",
    "sample_data = {'name': ['John', 'Alia', 'Anna', 'Monika', 'Sylwia'],\n",
    "             'gender': ['M', 'F', 'F', 'F', 'F'],\n",
    "             'communication_skill_score': [30, 40, 45, 50, 55],\n",
    "             'quantitative_skill_score': [38, 41, 42, 48, 32]}\n",
    "data = pd.DataFrame(sample_data, columns=['name', 'gender','communication_skill_score', 'quantitative_skill_score'])\n",
    "\n",
    "# find mean of communication_skill_score column\n",
    "data['communication_skill_score'].mean(axis=0)"
   ]
  },
  {
   "cell_type": "code",
   "execution_count": 8,
   "id": "14349eab",
   "metadata": {},
   "outputs": [
    {
     "data": {
      "text/plain": [
       "0    30\n",
       "1    40\n",
       "2    45\n",
       "3    50\n",
       "4    55\n",
       "Name: communication_skill_score, dtype: int64"
      ]
     },
     "execution_count": 8,
     "metadata": {},
     "output_type": "execute_result"
    }
   ],
   "source": [
    "# find mode of communication_skill_score column\n",
    "data['communication_skill_score'].mode()"
   ]
  },
  {
   "cell_type": "code",
   "execution_count": 9,
   "id": "0c40e6a6",
   "metadata": {},
   "outputs": [
    {
     "data": {
      "text/plain": [
       "45.0"
      ]
     },
     "execution_count": 9,
     "metadata": {},
     "output_type": "execute_result"
    }
   ],
   "source": [
    "# find median of communication_skill_score column\n",
    "data['communication_skill_score'].median()"
   ]
  },
  {
   "cell_type": "code",
   "execution_count": 11,
   "id": "d2ce1375",
   "metadata": {},
   "outputs": [
    {
     "name": "stdout",
     "output_type": "stream",
     "text": [
      "25\n"
     ]
    }
   ],
   "source": [
    "# measuring dispersion\n",
    "column_range=data['communication_skill_score'].max()-data['communication_skill_score'].min()\n",
    "print(column_range)"
   ]
  },
  {
   "cell_type": "code",
   "execution_count": 12,
   "id": "29b4da64",
   "metadata": {},
   "outputs": [
    {
     "name": "stdout",
     "output_type": "stream",
     "text": [
      "10.0\n"
     ]
    }
   ],
   "source": [
    "# first Quartile\n",
    "q1 = data['communication_skill_score'].quantile(.25)\n",
    "\n",
    "# third Quartile\n",
    "q3 = data['communication_skill_score'].quantile(.75)\n",
    "\n",
    "# inter Quartile Ratio\n",
    "iqr = q3 - q1\n",
    "print(iqr)"
   ]
  },
  {
   "cell_type": "code",
   "execution_count": 13,
   "id": "a5d3a69b",
   "metadata": {},
   "outputs": [
    {
     "data": {
      "text/plain": [
       "92.5"
      ]
     },
     "execution_count": 13,
     "metadata": {},
     "output_type": "execute_result"
    }
   ],
   "source": [
    "# variance of communication_skill_score\n",
    "data['communication_skill_score'].var()"
   ]
  },
  {
   "cell_type": "code",
   "execution_count": 14,
   "id": "12b6e8f0",
   "metadata": {},
   "outputs": [
    {
     "data": {
      "text/plain": [
       "9.617692030835672"
      ]
     },
     "execution_count": 14,
     "metadata": {},
     "output_type": "execute_result"
    }
   ],
   "source": [
    "# standard deviation of communication_skill_score\n",
    "data['communication_skill_score'].std()"
   ]
  },
  {
   "cell_type": "code",
   "execution_count": 15,
   "id": "67568007",
   "metadata": {},
   "outputs": [
    {
     "data": {
      "text/html": [
       "<div>\n",
       "<style scoped>\n",
       "    .dataframe tbody tr th:only-of-type {\n",
       "        vertical-align: middle;\n",
       "    }\n",
       "\n",
       "    .dataframe tbody tr th {\n",
       "        vertical-align: top;\n",
       "    }\n",
       "\n",
       "    .dataframe thead th {\n",
       "        text-align: right;\n",
       "    }\n",
       "</style>\n",
       "<table border=\"1\" class=\"dataframe\">\n",
       "  <thead>\n",
       "    <tr style=\"text-align: right;\">\n",
       "      <th></th>\n",
       "      <th>communication_skill_score</th>\n",
       "      <th>quantitative_skill_score</th>\n",
       "    </tr>\n",
       "  </thead>\n",
       "  <tbody>\n",
       "    <tr>\n",
       "      <th>count</th>\n",
       "      <td>5.000000</td>\n",
       "      <td>5.000000</td>\n",
       "    </tr>\n",
       "    <tr>\n",
       "      <th>mean</th>\n",
       "      <td>44.000000</td>\n",
       "      <td>40.200000</td>\n",
       "    </tr>\n",
       "    <tr>\n",
       "      <th>std</th>\n",
       "      <td>9.617692</td>\n",
       "      <td>5.848077</td>\n",
       "    </tr>\n",
       "    <tr>\n",
       "      <th>min</th>\n",
       "      <td>30.000000</td>\n",
       "      <td>32.000000</td>\n",
       "    </tr>\n",
       "    <tr>\n",
       "      <th>25%</th>\n",
       "      <td>40.000000</td>\n",
       "      <td>38.000000</td>\n",
       "    </tr>\n",
       "    <tr>\n",
       "      <th>50%</th>\n",
       "      <td>45.000000</td>\n",
       "      <td>41.000000</td>\n",
       "    </tr>\n",
       "    <tr>\n",
       "      <th>75%</th>\n",
       "      <td>50.000000</td>\n",
       "      <td>42.000000</td>\n",
       "    </tr>\n",
       "    <tr>\n",
       "      <th>max</th>\n",
       "      <td>55.000000</td>\n",
       "      <td>48.000000</td>\n",
       "    </tr>\n",
       "  </tbody>\n",
       "</table>\n",
       "</div>"
      ],
      "text/plain": [
       "       communication_skill_score  quantitative_skill_score\n",
       "count                   5.000000                  5.000000\n",
       "mean                   44.000000                 40.200000\n",
       "std                     9.617692                  5.848077\n",
       "min                    30.000000                 32.000000\n",
       "25%                    40.000000                 38.000000\n",
       "50%                    45.000000                 41.000000\n",
       "75%                    50.000000                 42.000000\n",
       "max                    55.000000                 48.000000"
      ]
     },
     "execution_count": 15,
     "metadata": {},
     "output_type": "execute_result"
    }
   ],
   "source": [
    "# discribe dataframe\n",
    "data.describe()"
   ]
  },
  {
   "cell_type": "code",
   "execution_count": null,
   "id": "5ca83c78",
   "metadata": {},
   "outputs": [],
   "source": []
  }
 ],
 "metadata": {
  "kernelspec": {
   "display_name": "Python 3 (ipykernel)",
   "language": "python",
   "name": "python3"
  },
  "language_info": {
   "codemirror_mode": {
    "name": "ipython",
    "version": 3
   },
   "file_extension": ".py",
   "mimetype": "text/x-python",
   "name": "python",
   "nbconvert_exporter": "python",
   "pygments_lexer": "ipython3",
   "version": "3.9.12"
  }
 },
 "nbformat": 4,
 "nbformat_minor": 5
}
