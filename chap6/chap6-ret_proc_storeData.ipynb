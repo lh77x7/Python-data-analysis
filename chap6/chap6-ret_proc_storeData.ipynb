{
 "cells": [
  {
   "cell_type": "code",
   "execution_count": 5,
   "id": "82e22dba",
   "metadata": {},
   "outputs": [
    {
     "name": "stdout",
     "output_type": "stream",
     "text": [
      "[[14. 32. 33.]\n",
      " [24. 45. 26.]\n",
      " [27. 38. 39.]]\n"
     ]
    }
   ],
   "source": [
    "# import genfromtxt function\n",
    "from numpy import genfromtxt\n",
    "\n",
    "# read comma separated file\n",
    "product_data = genfromtxt('demo.csv', delimiter=',')\n",
    "\n",
    "# display initial 5 records\n",
    "print(product_data)"
   ]
  },
  {
   "cell_type": "code",
   "execution_count": 13,
   "id": "2fd8de69",
   "metadata": {},
   "outputs": [],
   "source": [
    "# import numpy\n",
    "import numpy as np\n",
    "\n",
    "# create a sample array\n",
    "sample_array = np.asarray([[1,2,3], [4,5,6], [7,8,9]])\n",
    "\n",
    "# write sample array to CSV file\n",
    "np.savetxt(\"my_first_demo.csv\", sample_array, delimiter=\",\")"
   ]
  },
  {
   "cell_type": "code",
   "execution_count": 14,
   "id": "0014cc3a",
   "metadata": {},
   "outputs": [
    {
     "data": {
      "text/html": [
       "<div>\n",
       "<style scoped>\n",
       "    .dataframe tbody tr th:only-of-type {\n",
       "        vertical-align: middle;\n",
       "    }\n",
       "\n",
       "    .dataframe tbody tr th {\n",
       "        vertical-align: top;\n",
       "    }\n",
       "\n",
       "    .dataframe thead th {\n",
       "        text-align: right;\n",
       "    }\n",
       "</style>\n",
       "<table border=\"1\" class=\"dataframe\">\n",
       "  <thead>\n",
       "    <tr style=\"text-align: right;\">\n",
       "      <th></th>\n",
       "      <th>0</th>\n",
       "      <th>1</th>\n",
       "      <th>2</th>\n",
       "    </tr>\n",
       "  </thead>\n",
       "  <tbody>\n",
       "    <tr>\n",
       "      <th>0</th>\n",
       "      <td>14</td>\n",
       "      <td>32</td>\n",
       "      <td>33</td>\n",
       "    </tr>\n",
       "    <tr>\n",
       "      <th>1</th>\n",
       "      <td>24</td>\n",
       "      <td>45</td>\n",
       "      <td>26</td>\n",
       "    </tr>\n",
       "    <tr>\n",
       "      <th>2</th>\n",
       "      <td>27</td>\n",
       "      <td>38</td>\n",
       "      <td>39</td>\n",
       "    </tr>\n",
       "  </tbody>\n",
       "</table>\n",
       "</div>"
      ],
      "text/plain": [
       "    0   1   2\n",
       "0  14  32  33\n",
       "1  24  45  26\n",
       "2  27  38  39"
      ]
     },
     "execution_count": 14,
     "metadata": {},
     "output_type": "execute_result"
    }
   ],
   "source": [
    "# import pandas \n",
    "import pandas as pd\n",
    "\n",
    "# read CSV file\n",
    "sample_df = pd.read_csv('demo.csv', sep=',', header=None)\n",
    "\n",
    "# display initial 5 records\n",
    "sample_df.head()"
   ]
  },
  {
   "cell_type": "code",
   "execution_count": 15,
   "id": "64abdfb6",
   "metadata": {},
   "outputs": [
    {
     "data": {
      "text/html": [
       "<div>\n",
       "<style scoped>\n",
       "    .dataframe tbody tr th:only-of-type {\n",
       "        vertical-align: middle;\n",
       "    }\n",
       "\n",
       "    .dataframe tbody tr th {\n",
       "        vertical-align: top;\n",
       "    }\n",
       "\n",
       "    .dataframe thead th {\n",
       "        text-align: right;\n",
       "    }\n",
       "</style>\n",
       "<table border=\"1\" class=\"dataframe\">\n",
       "  <thead>\n",
       "    <tr style=\"text-align: right;\">\n",
       "      <th></th>\n",
       "      <th>0</th>\n",
       "      <th>1</th>\n",
       "      <th>2</th>\n",
       "    </tr>\n",
       "  </thead>\n",
       "  <tbody>\n",
       "    <tr>\n",
       "      <th>0</th>\n",
       "      <td>1.0</td>\n",
       "      <td>2.0</td>\n",
       "      <td>3.0</td>\n",
       "    </tr>\n",
       "    <tr>\n",
       "      <th>1</th>\n",
       "      <td>4.0</td>\n",
       "      <td>5.0</td>\n",
       "      <td>6.0</td>\n",
       "    </tr>\n",
       "    <tr>\n",
       "      <th>2</th>\n",
       "      <td>7.0</td>\n",
       "      <td>8.0</td>\n",
       "      <td>9.0</td>\n",
       "    </tr>\n",
       "  </tbody>\n",
       "</table>\n",
       "</div>"
      ],
      "text/plain": [
       "     0    1    2\n",
       "0  1.0  2.0  3.0\n",
       "1  4.0  5.0  6.0\n",
       "2  7.0  8.0  9.0"
      ]
     },
     "execution_count": 15,
     "metadata": {},
     "output_type": "execute_result"
    }
   ],
   "source": [
    "# check my_first_demo.csv\n",
    "check_first_demo = pd.read_csv('my_first_demo.csv', sep=',', header=None)\n",
    "\n",
    "# display initial 5 records - in this case all array\n",
    "check_first_demo.head()"
   ]
  },
  {
   "cell_type": "code",
   "execution_count": 16,
   "id": "9b0efc53",
   "metadata": {},
   "outputs": [],
   "source": [
    "# save DataFrame to CSV file\n",
    "sample_df.to_csv('demo_sample_df.csv')"
   ]
  },
  {
   "cell_type": "code",
   "execution_count": 17,
   "id": "127aa335",
   "metadata": {},
   "outputs": [
    {
     "data": {
      "text/html": [
       "<div>\n",
       "<style scoped>\n",
       "    .dataframe tbody tr th:only-of-type {\n",
       "        vertical-align: middle;\n",
       "    }\n",
       "\n",
       "    .dataframe tbody tr th {\n",
       "        vertical-align: top;\n",
       "    }\n",
       "\n",
       "    .dataframe thead th {\n",
       "        text-align: right;\n",
       "    }\n",
       "</style>\n",
       "<table border=\"1\" class=\"dataframe\">\n",
       "  <thead>\n",
       "    <tr style=\"text-align: right;\">\n",
       "      <th></th>\n",
       "      <th>0</th>\n",
       "      <th>1</th>\n",
       "      <th>2</th>\n",
       "      <th>3</th>\n",
       "    </tr>\n",
       "  </thead>\n",
       "  <tbody>\n",
       "    <tr>\n",
       "      <th>0</th>\n",
       "      <td>NaN</td>\n",
       "      <td>0</td>\n",
       "      <td>1</td>\n",
       "      <td>2</td>\n",
       "    </tr>\n",
       "    <tr>\n",
       "      <th>1</th>\n",
       "      <td>0.0</td>\n",
       "      <td>14</td>\n",
       "      <td>32</td>\n",
       "      <td>33</td>\n",
       "    </tr>\n",
       "    <tr>\n",
       "      <th>2</th>\n",
       "      <td>1.0</td>\n",
       "      <td>24</td>\n",
       "      <td>45</td>\n",
       "      <td>26</td>\n",
       "    </tr>\n",
       "    <tr>\n",
       "      <th>3</th>\n",
       "      <td>2.0</td>\n",
       "      <td>27</td>\n",
       "      <td>38</td>\n",
       "      <td>39</td>\n",
       "    </tr>\n",
       "  </tbody>\n",
       "</table>\n",
       "</div>"
      ],
      "text/plain": [
       "     0   1   2   3\n",
       "0  NaN   0   1   2\n",
       "1  0.0  14  32  33\n",
       "2  1.0  24  45  26\n",
       "3  2.0  27  38  39"
      ]
     },
     "execution_count": 17,
     "metadata": {},
     "output_type": "execute_result"
    }
   ],
   "source": [
    "# check what you have saved\n",
    "check_saved = pd.read_csv('demo_sample_df.csv', sep=',', header=None)\n",
    "\n",
    "# display initial 5 records - data overwrited (in this case doesn't matter)\n",
    "check_saved.head()"
   ]
  },
  {
   "cell_type": "code",
   "execution_count": 2,
   "id": "a9e06e85",
   "metadata": {},
   "outputs": [
    {
     "data": {
      "text/html": [
       "<div>\n",
       "<style scoped>\n",
       "    .dataframe tbody tr th:only-of-type {\n",
       "        vertical-align: middle;\n",
       "    }\n",
       "\n",
       "    .dataframe tbody tr th {\n",
       "        vertical-align: top;\n",
       "    }\n",
       "\n",
       "    .dataframe thead th {\n",
       "        text-align: right;\n",
       "    }\n",
       "</style>\n",
       "<table border=\"1\" class=\"dataframe\">\n",
       "  <thead>\n",
       "    <tr style=\"text-align: right;\">\n",
       "      <th></th>\n",
       "      <th>name</th>\n",
       "      <th>performance_score</th>\n",
       "    </tr>\n",
       "  </thead>\n",
       "  <tbody>\n",
       "    <tr>\n",
       "      <th>0</th>\n",
       "      <td>Allen Smith</td>\n",
       "      <td>723</td>\n",
       "    </tr>\n",
       "    <tr>\n",
       "      <th>1</th>\n",
       "      <td>S Kumar</td>\n",
       "      <td>520</td>\n",
       "    </tr>\n",
       "    <tr>\n",
       "      <th>2</th>\n",
       "      <td>Jack Morgan</td>\n",
       "      <td>674</td>\n",
       "    </tr>\n",
       "    <tr>\n",
       "      <th>3</th>\n",
       "      <td>Ying Chin</td>\n",
       "      <td>556</td>\n",
       "    </tr>\n",
       "    <tr>\n",
       "      <th>4</th>\n",
       "      <td>Dheeraj Patel</td>\n",
       "      <td>711</td>\n",
       "    </tr>\n",
       "  </tbody>\n",
       "</table>\n",
       "</div>"
      ],
      "text/plain": [
       "            name  performance_score\n",
       "0    Allen Smith                723\n",
       "1        S Kumar                520\n",
       "2    Jack Morgan                674\n",
       "3      Ying Chin                556\n",
       "4  Dheeraj Patel                711"
      ]
     },
     "execution_count": 2,
     "metadata": {},
     "output_type": "execute_result"
    }
   ],
   "source": [
    "# import pandas \n",
    "import pandas as pd\n",
    "\n",
    "# reading and writing from Excel\n",
    "\n",
    "# read excel file\n",
    "df = pd.read_excel('employee.xlsx', sheet_name='performance')\n",
    "\n",
    "# display initial 5 records\n",
    "df.head()"
   ]
  },
  {
   "cell_type": "code",
   "execution_count": 3,
   "id": "226ac6fa",
   "metadata": {},
   "outputs": [
    {
     "data": {
      "text/html": [
       "<div>\n",
       "<style scoped>\n",
       "    .dataframe tbody tr th:only-of-type {\n",
       "        vertical-align: middle;\n",
       "    }\n",
       "\n",
       "    .dataframe tbody tr th {\n",
       "        vertical-align: top;\n",
       "    }\n",
       "\n",
       "    .dataframe thead th {\n",
       "        text-align: right;\n",
       "    }\n",
       "</style>\n",
       "<table border=\"1\" class=\"dataframe\">\n",
       "  <thead>\n",
       "    <tr style=\"text-align: right;\">\n",
       "      <th></th>\n",
       "      <th>name</th>\n",
       "      <th>age</th>\n",
       "      <th>income</th>\n",
       "      <th>gender</th>\n",
       "      <th>department</th>\n",
       "      <th>grade</th>\n",
       "    </tr>\n",
       "  </thead>\n",
       "  <tbody>\n",
       "    <tr>\n",
       "      <th>0</th>\n",
       "      <td>Allen Smith</td>\n",
       "      <td>45.0</td>\n",
       "      <td>NaN</td>\n",
       "      <td>None</td>\n",
       "      <td>Operations</td>\n",
       "      <td>G3</td>\n",
       "    </tr>\n",
       "    <tr>\n",
       "      <th>1</th>\n",
       "      <td>S Kumar</td>\n",
       "      <td>NaN</td>\n",
       "      <td>16000.0</td>\n",
       "      <td>F</td>\n",
       "      <td>Finance</td>\n",
       "      <td>G0</td>\n",
       "    </tr>\n",
       "    <tr>\n",
       "      <th>2</th>\n",
       "      <td>Jack Morgan</td>\n",
       "      <td>32.0</td>\n",
       "      <td>35000.0</td>\n",
       "      <td>M</td>\n",
       "      <td>Finance</td>\n",
       "      <td>G2</td>\n",
       "    </tr>\n",
       "    <tr>\n",
       "      <th>3</th>\n",
       "      <td>Ying Chin</td>\n",
       "      <td>45.0</td>\n",
       "      <td>65000.0</td>\n",
       "      <td>F</td>\n",
       "      <td>Sales</td>\n",
       "      <td>G3</td>\n",
       "    </tr>\n",
       "    <tr>\n",
       "      <th>4</th>\n",
       "      <td>Dheeraj Patel</td>\n",
       "      <td>30.0</td>\n",
       "      <td>42000.0</td>\n",
       "      <td>F</td>\n",
       "      <td>Operations</td>\n",
       "      <td>G2</td>\n",
       "    </tr>\n",
       "  </tbody>\n",
       "</table>\n",
       "</div>"
      ],
      "text/plain": [
       "            name   age   income gender  department grade\n",
       "0    Allen Smith  45.0      NaN   None  Operations    G3\n",
       "1        S Kumar   NaN  16000.0      F     Finance    G0\n",
       "2    Jack Morgan  32.0  35000.0      M     Finance    G2\n",
       "3      Ying Chin  45.0  65000.0      F       Sales    G3\n",
       "4  Dheeraj Patel  30.0  42000.0      F  Operations    G2"
      ]
     },
     "execution_count": 3,
     "metadata": {},
     "output_type": "execute_result"
    }
   ],
   "source": [
    "# reading and writing data from JSON\n",
    "\n",
    "# reading JSON file\n",
    "df = pd.read_json('employee.json')\n",
    "\n",
    "# display initial 5 records\n",
    "df.head()"
   ]
  },
  {
   "cell_type": "code",
   "execution_count": 4,
   "id": "243ab4d5",
   "metadata": {},
   "outputs": [],
   "source": [
    "# writing DataFrame to JSON file\n",
    "df.to_json('employee_demo.json', orient=\"columns\")"
   ]
  },
  {
   "cell_type": "code",
   "execution_count": 5,
   "id": "34c43fc5",
   "metadata": {},
   "outputs": [],
   "source": [
    "# write DataFrame to hdf5\n",
    "df.to_hdf('employee.h5', 'table', append=True)"
   ]
  },
  {
   "cell_type": "code",
   "execution_count": 18,
   "id": "24b900b6",
   "metadata": {},
   "outputs": [
    {
     "data": {
      "text/html": [
       "<div>\n",
       "<style scoped>\n",
       "    .dataframe tbody tr th:only-of-type {\n",
       "        vertical-align: middle;\n",
       "    }\n",
       "\n",
       "    .dataframe tbody tr th {\n",
       "        vertical-align: top;\n",
       "    }\n",
       "\n",
       "    .dataframe thead th {\n",
       "        text-align: right;\n",
       "    }\n",
       "</style>\n",
       "<table border=\"1\" class=\"dataframe\">\n",
       "  <thead>\n",
       "    <tr style=\"text-align: right;\">\n",
       "      <th></th>\n",
       "      <th>name</th>\n",
       "      <th>age</th>\n",
       "      <th>income</th>\n",
       "      <th>gender</th>\n",
       "      <th>department</th>\n",
       "      <th>grade</th>\n",
       "    </tr>\n",
       "  </thead>\n",
       "  <tbody>\n",
       "    <tr>\n",
       "      <th>0</th>\n",
       "      <td>Allen Smith</td>\n",
       "      <td>45.0</td>\n",
       "      <td>NaN</td>\n",
       "      <td>NaN</td>\n",
       "      <td>Operations</td>\n",
       "      <td>G3</td>\n",
       "    </tr>\n",
       "    <tr>\n",
       "      <th>1</th>\n",
       "      <td>S Kumar</td>\n",
       "      <td>NaN</td>\n",
       "      <td>16000.0</td>\n",
       "      <td>F</td>\n",
       "      <td>Finance</td>\n",
       "      <td>G0</td>\n",
       "    </tr>\n",
       "    <tr>\n",
       "      <th>2</th>\n",
       "      <td>Jack Morgan</td>\n",
       "      <td>32.0</td>\n",
       "      <td>35000.0</td>\n",
       "      <td>M</td>\n",
       "      <td>Finance</td>\n",
       "      <td>G2</td>\n",
       "    </tr>\n",
       "    <tr>\n",
       "      <th>3</th>\n",
       "      <td>Ying Chin</td>\n",
       "      <td>45.0</td>\n",
       "      <td>65000.0</td>\n",
       "      <td>F</td>\n",
       "      <td>Sales</td>\n",
       "      <td>G3</td>\n",
       "    </tr>\n",
       "    <tr>\n",
       "      <th>4</th>\n",
       "      <td>Dheeraj Patel</td>\n",
       "      <td>30.0</td>\n",
       "      <td>42000.0</td>\n",
       "      <td>F</td>\n",
       "      <td>Operations</td>\n",
       "      <td>G2</td>\n",
       "    </tr>\n",
       "  </tbody>\n",
       "</table>\n",
       "</div>"
      ],
      "text/plain": [
       "            name   age   income gender  department grade\n",
       "0    Allen Smith  45.0      NaN    NaN  Operations    G3\n",
       "1        S Kumar   NaN  16000.0      F     Finance    G0\n",
       "2    Jack Morgan  32.0  35000.0      M     Finance    G2\n",
       "3      Ying Chin  45.0  65000.0      F       Sales    G3\n",
       "4  Dheeraj Patel  30.0  42000.0      F  Operations    G2"
      ]
     },
     "execution_count": 18,
     "metadata": {},
     "output_type": "execute_result"
    }
   ],
   "source": [
    "# read a hdf5 file\n",
    "df = pd.read_hdf('employee.h5', 'table')\n",
    "\n",
    "# display initial 5 records\n",
    "df.head()"
   ]
  },
  {
   "cell_type": "code",
   "execution_count": 19,
   "id": "dd2f6c34",
   "metadata": {},
   "outputs": [],
   "source": [
    "# reading and writing data from HTML tables\n",
    "\n",
    "# read HTML table from given URL\n",
    "table_url = 'https://en.wikipedia.org/wiki/List_of_sovereign_states_and_dependent_territories_in_North_America'\n",
    "df_list = pd.read_html(table_url)"
   ]
  },
  {
   "cell_type": "code",
   "execution_count": 20,
   "id": "0296f176",
   "metadata": {},
   "outputs": [
    {
     "name": "stdout",
     "output_type": "stream",
     "text": [
      "Number of DataFrame:  8\n"
     ]
    }
   ],
   "source": [
    "print(\"Number of DataFrame: \", len(df_list))"
   ]
  },
  {
   "cell_type": "code",
   "execution_count": 21,
   "id": "825d3e7d",
   "metadata": {},
   "outputs": [
    {
     "data": {
      "text/html": [
       "<div>\n",
       "<style scoped>\n",
       "    .dataframe tbody tr th:only-of-type {\n",
       "        vertical-align: middle;\n",
       "    }\n",
       "\n",
       "    .dataframe tbody tr th {\n",
       "        vertical-align: top;\n",
       "    }\n",
       "\n",
       "    .dataframe thead th {\n",
       "        text-align: right;\n",
       "    }\n",
       "</style>\n",
       "<table border=\"1\" class=\"dataframe\">\n",
       "  <thead>\n",
       "    <tr style=\"text-align: right;\">\n",
       "      <th></th>\n",
       "      <th>Flag</th>\n",
       "      <th>English short name</th>\n",
       "      <th>English long name</th>\n",
       "      <th>Domestic short name(s)</th>\n",
       "      <th>Capital</th>\n",
       "      <th>Currency</th>\n",
       "      <th>Population</th>\n",
       "    </tr>\n",
       "  </thead>\n",
       "  <tbody>\n",
       "    <tr>\n",
       "      <th>0</th>\n",
       "      <td>NaN</td>\n",
       "      <td>Antigua and Barbuda[n 1]</td>\n",
       "      <td>Antigua and Barbuda</td>\n",
       "      <td>English: Antigua and Barbuda</td>\n",
       "      <td>St. John's</td>\n",
       "      <td>East Caribbean dollar</td>\n",
       "      <td>97118</td>\n",
       "    </tr>\n",
       "    <tr>\n",
       "      <th>1</th>\n",
       "      <td>NaN</td>\n",
       "      <td>Bahamas, The[n 1]</td>\n",
       "      <td>Commonwealth of The Bahamas</td>\n",
       "      <td>English: Bahamas</td>\n",
       "      <td>Nassau</td>\n",
       "      <td>Bahamian dollar</td>\n",
       "      <td>389482</td>\n",
       "    </tr>\n",
       "    <tr>\n",
       "      <th>2</th>\n",
       "      <td>NaN</td>\n",
       "      <td>Barbados[n 1]</td>\n",
       "      <td>Barbados</td>\n",
       "      <td>English: Barbados</td>\n",
       "      <td>Bridgetown</td>\n",
       "      <td>Barbadian dollar</td>\n",
       "      <td>287025</td>\n",
       "    </tr>\n",
       "    <tr>\n",
       "      <th>3</th>\n",
       "      <td>NaN</td>\n",
       "      <td>Belize[n 1][n 2]</td>\n",
       "      <td>Belize</td>\n",
       "      <td>English: Belize</td>\n",
       "      <td>Belmopan</td>\n",
       "      <td>Belize dollar</td>\n",
       "      <td>390353</td>\n",
       "    </tr>\n",
       "    <tr>\n",
       "      <th>4</th>\n",
       "      <td>NaN</td>\n",
       "      <td>Canada[n 3]</td>\n",
       "      <td>Canada</td>\n",
       "      <td>English: CanadaFrench: Canada</td>\n",
       "      <td>Ottawa</td>\n",
       "      <td>Canadian dollar</td>\n",
       "      <td>35151728</td>\n",
       "    </tr>\n",
       "  </tbody>\n",
       "</table>\n",
       "</div>"
      ],
      "text/plain": [
       "   Flag        English short name            English long name  \\\n",
       "0   NaN  Antigua and Barbuda[n 1]          Antigua and Barbuda   \n",
       "1   NaN         Bahamas, The[n 1]  Commonwealth of The Bahamas   \n",
       "2   NaN             Barbados[n 1]                     Barbados   \n",
       "3   NaN          Belize[n 1][n 2]                       Belize   \n",
       "4   NaN               Canada[n 3]                       Canada   \n",
       "\n",
       "          Domestic short name(s)     Capital               Currency  \\\n",
       "0   English: Antigua and Barbuda  St. John's  East Caribbean dollar   \n",
       "1               English: Bahamas      Nassau        Bahamian dollar   \n",
       "2              English: Barbados  Bridgetown       Barbadian dollar   \n",
       "3                English: Belize    Belmopan          Belize dollar   \n",
       "4  English: CanadaFrench: Canada      Ottawa        Canadian dollar   \n",
       "\n",
       "   Population  \n",
       "0       97118  \n",
       "1      389482  \n",
       "2      287025  \n",
       "3      390353  \n",
       "4    35151728  "
      ]
     },
     "execution_count": 21,
     "metadata": {},
     "output_type": "execute_result"
    }
   ],
   "source": [
    "# check first DataFrame\n",
    "df_list[0].head()"
   ]
  },
  {
   "cell_type": "code",
   "execution_count": 22,
   "id": "b467c04d",
   "metadata": {},
   "outputs": [],
   "source": [
    "# write DataFrame to raw HTML\n",
    "df_list[1].to_html('country.html')"
   ]
  },
  {
   "cell_type": "code",
   "execution_count": 29,
   "id": "5c194f51",
   "metadata": {},
   "outputs": [],
   "source": [
    "# import numpy\n",
    "import numpy as np\n",
    "\n",
    "# import pandas \n",
    "import pandas as pd\n",
    "\n",
    "# import genfromtxt function\n",
    "from numpy import genfromtxt\n",
    "\n",
    "from pandas.io.parquet import to_parquet"
   ]
  },
  {
   "cell_type": "code",
   "execution_count": 33,
   "id": "c412798e",
   "metadata": {},
   "outputs": [],
   "source": [
    "# reading and writing data from a pickle pandas object\n",
    "\n",
    "# import pandas\n",
    "import pandas as pd\n",
    "\n",
    "# read CSV file\n",
    "df = pd.read_csv('demo.csv', sep = ',', header=None)\n",
    "\n",
    "# save DataFrame object in pickle file\n",
    "df.to_pickle('demo_obj.pkl')"
   ]
  },
  {
   "cell_type": "code",
   "execution_count": 34,
   "id": "0010805e",
   "metadata": {},
   "outputs": [
    {
     "data": {
      "text/html": [
       "<div>\n",
       "<style scoped>\n",
       "    .dataframe tbody tr th:only-of-type {\n",
       "        vertical-align: middle;\n",
       "    }\n",
       "\n",
       "    .dataframe tbody tr th {\n",
       "        vertical-align: top;\n",
       "    }\n",
       "\n",
       "    .dataframe thead th {\n",
       "        text-align: right;\n",
       "    }\n",
       "</style>\n",
       "<table border=\"1\" class=\"dataframe\">\n",
       "  <thead>\n",
       "    <tr style=\"text-align: right;\">\n",
       "      <th></th>\n",
       "      <th>0</th>\n",
       "      <th>1</th>\n",
       "      <th>2</th>\n",
       "    </tr>\n",
       "  </thead>\n",
       "  <tbody>\n",
       "    <tr>\n",
       "      <th>0</th>\n",
       "      <td>14</td>\n",
       "      <td>32</td>\n",
       "      <td>33</td>\n",
       "    </tr>\n",
       "    <tr>\n",
       "      <th>1</th>\n",
       "      <td>24</td>\n",
       "      <td>45</td>\n",
       "      <td>26</td>\n",
       "    </tr>\n",
       "    <tr>\n",
       "      <th>2</th>\n",
       "      <td>27</td>\n",
       "      <td>38</td>\n",
       "      <td>39</td>\n",
       "    </tr>\n",
       "  </tbody>\n",
       "</table>\n",
       "</div>"
      ],
      "text/plain": [
       "    0   1   2\n",
       "0  14  32  33\n",
       "1  24  45  26\n",
       "2  27  38  39"
      ]
     },
     "execution_count": 34,
     "metadata": {},
     "output_type": "execute_result"
    }
   ],
   "source": [
    "# read DataFrame object from pickle file\n",
    "pickle_obj = pd.read_pickle('demo_obj.pkl')\n",
    "\n",
    "# display initial 5 records\n",
    "pickle_obj.head()"
   ]
  },
  {
   "cell_type": "code",
   "execution_count": 36,
   "id": "9a97a467",
   "metadata": {},
   "outputs": [],
   "source": [
    "# import sqlite3\n",
    "import sqlite3\n",
    "\n",
    "# create connection. This will create the connection with employee\n",
    "# database. If the database does not exist it will create the database\n",
    "\n",
    "# crete database if not exists\n",
    "conn = sqlite3.connect('employee.db')\n",
    "\n",
    "# create cursor\n",
    "cur = conn.cursor()"
   ]
  },
  {
   "cell_type": "code",
   "execution_count": 39,
   "id": "b7a9c396",
   "metadata": {},
   "outputs": [],
   "source": [
    "# execute SQL query and create the database table\n",
    "# cur.execute(\"create table emp(eid int, salary int)\")\n",
    "\n",
    "# execute SQL query and write the data into database\n",
    "# cur.execute(\"insert into emp values(105, 57000)\")\n",
    "\n",
    "# commit the transaction\n",
    "# conn.commit()"
   ]
  },
  {
   "cell_type": "code",
   "execution_count": 40,
   "id": "58b1eca0",
   "metadata": {},
   "outputs": [
    {
     "data": {
      "text/plain": [
       "<sqlite3.Cursor at 0x203e90eef10>"
      ]
     },
     "execution_count": 40,
     "metadata": {},
     "output_type": "execute_result"
    }
   ],
   "source": [
    "# execute SQL query and Read the data from the database\n",
    "cur.execute('select * from emp')"
   ]
  },
  {
   "cell_type": "code",
   "execution_count": 41,
   "id": "e2354dd1",
   "metadata": {},
   "outputs": [
    {
     "name": "stdout",
     "output_type": "stream",
     "text": [
      "[(105, 57000)]\n"
     ]
    }
   ],
   "source": [
    "# fetch records\n",
    "print(cur.fetchall())"
   ]
  },
  {
   "cell_type": "code",
   "execution_count": 42,
   "id": "87f6ca21",
   "metadata": {},
   "outputs": [],
   "source": [
    "# close the Database connection\n",
    "conn.close()"
   ]
  },
  {
   "cell_type": "code",
   "execution_count": 59,
   "id": "7a734a67",
   "metadata": {},
   "outputs": [],
   "source": [
    "# reading and writing from MySQL\n",
    "\n",
    "# import pymysql connector module\n",
    "import pymysql"
   ]
  },
  {
   "cell_type": "code",
   "execution_count": 60,
   "id": "b31bb595",
   "metadata": {},
   "outputs": [],
   "source": [
    "# create a connection object using connect() method\n",
    "\n",
    "# connection = pymysql.connect(host='localhost',\n",
    "# user='root', password='password', db='employee', \n",
    "# charset='utf8mb4', cursorclass=pymysql.cursors.DictCursor)\n",
    "# try:\n",
    "#     with connection.cursor() as cur:\n",
    "#        # inject a record in database\n",
    "#        sql_query = \"INSERT INTO 'emp' ('aid', 'salary') VALUES (%s, %s)\"\n",
    "#        cur.execute(sql_query, (104, 43000))\n",
    "\n",
    "# commit the record insertion explicitly\n",
    "# connection.commit()\n",
    "\n",
    "# with connection.cursor() as cur:\n",
    "#    # read records from employee table\n",
    "#    sql_query = \"SELECT * FROM 'emp'\"\n",
    "#    cur.execute(sql_query)\n",
    "#    table_data = cur.fetchall()\n",
    "#    print(table_data)\n",
    "\n",
    "# except:\n",
    "#    print(\"Exception Occured\")\n",
    "# finally:\n",
    "#    connection.close()"
   ]
  },
  {
   "cell_type": "code",
   "execution_count": 68,
   "id": "f19e9e2f",
   "metadata": {},
   "outputs": [],
   "source": [
    "# reading and writing data from MongoDB\n",
    "\n",
    "# create mongo client\n",
    "# client = pymongo.MongoClient()\n",
    "\n",
    "# get database\n",
    "# db = client.employee\n",
    "\n",
    "# get the collection from database\n",
    "# collection = db.employee\n",
    "\n",
    "# write the data using insert_one() method\n",
    "# employee_salary = {\"eid\":114, \"salary\":25000}\n",
    "# collection.insert_one(employee_salary)\n",
    "\n",
    "# create a dataframe with fetched data\n",
    "# data = pd.DataFrame(list(collection.find()))\n",
    "\n"
   ]
  },
  {
   "cell_type": "code",
   "execution_count": 71,
   "id": "30f16b42",
   "metadata": {},
   "outputs": [],
   "source": [
    "# reading and writing data from cassandra\n",
    "\n",
    "# import the cluster\n",
    "# from cassandra.cluster import Cluster\n",
    "\n",
    "# Creating a cluster object\n",
    "# cluster = Cluster()\n",
    "\n",
    "# Create connections by calling Cluster.connect():\n",
    "# conn = cluster.connect()\n",
    "\n",
    "# Execute the insert query\n",
    "# session.execute(\n",
    "# \"\"\" INSERT INTO users (eid, ename, age) VALUES (%(eid)s, %(ename)s, %(age)s, %(name)s)\"\"\", \n",
    "# {'eid':101, 'ename': \"Steve smith\", 'age': 42})\n",
    "\n",
    "# Execute the select query\n",
    "# rows = conn.execute('SELECT * FROM users')\n",
    "\n",
    "# Print the results\n",
    "# for emp_row in rows:\n",
    "#    print(emp_row.eid, emp_row.ename, emp_row.age)\n",
    "\n",
    "# Create a dataframe and assign fetched data to DataFrame\n",
    "# data = pd.DataFrame(rows)"
   ]
  },
  {
   "cell_type": "code",
   "execution_count": null,
   "id": "8911d2ce",
   "metadata": {},
   "outputs": [],
   "source": [
    "# reading and writing data from redis\n",
    "# Import module\n",
    "# import redis\n",
    "\n",
    "# Create connection\n",
    "# r = redis.Redis(host='localhost', port=6379, db=0)\n",
    "\n",
    "# Setting key-value pair\n",
    "# r.set('eid', '101')\n",
    "\n",
    "# Get value for given key\n",
    "# value=r.get('eid')\n",
    "\n",
    "# Print the value\n",
    "# print(value)"
   ]
  }
 ],
 "metadata": {
  "kernelspec": {
   "display_name": "Python 3 (ipykernel)",
   "language": "python",
   "name": "python3"
  },
  "language_info": {
   "codemirror_mode": {
    "name": "ipython",
    "version": 3
   },
   "file_extension": ".py",
   "mimetype": "text/x-python",
   "name": "python",
   "nbconvert_exporter": "python",
   "pygments_lexer": "ipython3",
   "version": "3.9.12"
  }
 },
 "nbformat": 4,
 "nbformat_minor": 5
}
