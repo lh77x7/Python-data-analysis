{
 "cells": [
  {
   "cell_type": "code",
   "execution_count": 1,
   "id": "fba9da44",
   "metadata": {},
   "outputs": [
    {
     "name": "stdout",
     "output_type": "stream",
     "text": [
      "Eigenvalues:  [8.27394258+0.j 3.67612927+0.j]\n",
      "Eigenvector:  [[-0.1375708   0.69903712]\n",
      " [-0.25045969  0.66088917]\n",
      " [ 0.95830278  0.27307986]]\n",
      "Sorted and Selected Eigen Values:  [8.27394258+0.j 3.67612927+0.j]\n",
      "Sorted and Selected Eigen Vector:  [[-0.1375708   0.69903712]\n",
      " [-0.25045969  0.66088917]\n",
      " [ 0.95830278  0.27307986]]\n",
      "Principal Components:  [[-2.15142276 -0.17311941]\n",
      " [ 3.80418259 -2.88749898]\n",
      " [ 0.15321328 -0.98688598]\n",
      " [-4.7065185   1.30153634]\n",
      " [ 1.29375788  2.27912632]\n",
      " [ 4.0993133   0.1435814 ]\n",
      " [-1.62582148 -2.23208282]\n",
      " [ 2.11448986  3.2512433 ]\n",
      " [-0.2348172   0.37304031]\n",
      " [-2.74637697 -1.06894049]]\n"
     ]
    }
   ],
   "source": [
    "## unsupervised learning - PCA and Clustering\n",
    "\n",
    "# import numpy\n",
    "import numpy as np\n",
    "\n",
    "# import linear algebra module\n",
    "from scipy import linalg as la\n",
    "\n",
    "# create dataset\n",
    "data = np.array(\n",
    "    [[7., 4., 3.],\n",
    "    [4., 1., 8.],\n",
    "    [6., 3., 5.],\n",
    "    [8., 6., 1.],\n",
    "    [8., 5., 7.],\n",
    "    [7., 2., 9.],\n",
    "    [5., 3., 3.],\n",
    "    [9., 5., 8.],\n",
    "    [7., 4., 5.],\n",
    "    [8., 2., 2.]]\n",
    ")\n",
    "\n",
    "# calculate the covariance matrix\n",
    "# center your data\n",
    "data -= data.mean(axis=0)\n",
    "cov = np.cov(data, rowvar=False)\n",
    "\n",
    "# calculate eigenvalues and eigenvector of the covariance matrix\n",
    "evals, evecs = la.eig(cov)\n",
    "\n",
    "# multiply the original data matrix with eigenvector matrix\n",
    "num_components = 2\n",
    "sorted_key = np.argsort(evals)[::-1][:num_components]\n",
    "evals, evecs = evals[sorted_key], evecs[:, sorted_key]\n",
    "\n",
    "print(\"Eigenvalues: \", evals)\n",
    "print(\"Eigenvector: \", evecs)\n",
    "print(\"Sorted and Selected Eigen Values: \", evals)\n",
    "print(\"Sorted and Selected Eigen Vector: \", evecs)\n",
    "\n",
    "# multiply orginal data and Eigen vector\n",
    "principal_components = np.dot(data, evecs)\n",
    "print(\"Principal Components: \", principal_components)"
   ]
  },
  {
   "cell_type": "code",
   "execution_count": 2,
   "id": "4d0e318b",
   "metadata": {},
   "outputs": [
    {
     "name": "stdout",
     "output_type": "stream",
     "text": [
      "   principal_component_1  principal_component_2\n",
      "0               2.151423              -0.173119\n",
      "1              -3.804183              -2.887499\n",
      "2              -0.153213              -0.986886\n",
      "3               4.706518               1.301536\n",
      "4              -1.293758               2.279126\n",
      "5              -4.099313               0.143581\n",
      "6               1.625821              -2.232083\n",
      "7              -2.114490               3.251243\n",
      "8               0.234817               0.373040\n",
      "9               2.746377              -1.068940\n"
     ]
    }
   ],
   "source": [
    "# import pandas and PCA\n",
    "import pandas as pd\n",
    "\n",
    "# import principal component analysis\n",
    "from sklearn.decomposition import PCA\n",
    "\n",
    "# create dataset\n",
    "data = np.array([[7., 4., 3.],\n",
    "                 [4., 1., 8.],\n",
    "                 [6., 3., 5.],\n",
    "                 [8., 6., 1.],\n",
    "                 [8., 5., 7.],\n",
    "                 [7., 2., 9.],\n",
    "                 [5., 3., 3.],\n",
    "                 [9., 5., 8.],\n",
    "                 [7., 4., 5.],\n",
    "                 [8., 2., 2.]])\n",
    "\n",
    "# create and fit_transformed PCA Model\n",
    "pca_model = PCA(n_components=2)\n",
    "components = pca_model.fit_transform(data)\n",
    "components_df = pd.DataFrame(data = components,\n",
    "columns = ['principal_component_1', 'principal_component_2'])\n",
    "print(components_df)"
   ]
  },
  {
   "cell_type": "code",
   "execution_count": 5,
   "id": "8754b963",
   "metadata": {
    "scrolled": true
   },
   "outputs": [
    {
     "name": "stderr",
     "output_type": "stream",
     "text": [
      "C:\\Users\\Admin\\anaconda3\\lib\\site-packages\\sklearn\\cluster\\_kmeans.py:1036: UserWarning: KMeans is known to have a memory leak on Windows with MKL, when there are less chunks than available threads. You can avoid it by setting the environment variable OMP_NUM_THREADS=1.\n",
      "  warnings.warn(\n"
     ]
    },
    {
     "data": {
      "image/png": "[encoded data removed]",
      "text/plain": [
       "<Figure size 432x288 with 1 Axes>"
      ]
     },
     "metadata": {
      "needs_background": "light"
     },
     "output_type": "display_data"
    }
   ],
   "source": [
    "## clustering\n",
    "\n",
    "# import pandas\n",
    "import pandas as pd\n",
    "\n",
    "# import matplotlib\n",
    "import matplotlib.pyplot as plt\n",
    "\n",
    "# import K-means\n",
    "from sklearn.cluster import KMeans\n",
    "\n",
    "# create DataFrame\n",
    "data = pd.DataFrame({\"X\":[12, 15, 18, 10, 8, 9, 12, 20],\n",
    "                     \"Y\":[6, 16, 17, 8, 7, 6, 9, 18]})\n",
    "wcss_list = []\n",
    "\n",
    "# run a loop for different value of number of cluster\n",
    "for i in range(1, 6):\n",
    "    # create and fit the KMeans model\n",
    "    kmeans_model = KMeans(n_clusters=i, random_state=123)\n",
    "    kmeans_model.fit(data)\n",
    "    # add the WCSS of inertia of the clusters to the score_list\n",
    "    wcss_list.append(kmeans_model.inertia_)\n",
    "    \n",
    "# plot the interia(WCSS) and number of clusters\n",
    "plt.plot(range(1, 6), wcss_list, marker='*')\n",
    "    \n",
    "# set title of the plot\n",
    "plt.title('Selecting Optimum Number of Clusters using Elbow Method')\n",
    "    \n",
    "# set X-axis label\n",
    "plt.xlabel('Number of clusters K')\n",
    "    \n",
    "# set Y-axis label\n",
    "plt.ylabel('Within-cluster sum of the Squares(Inertia)')\n",
    "    \n",
    "# display plot\n",
    "plt.show()"
   ]
  },
  {
   "cell_type": "code",
   "execution_count": 7,
   "id": "e0c54fa3",
   "metadata": {},
   "outputs": [
    {
     "data": {
      "image/png": "[encoded data removed]",
      "text/plain": [
       "<Figure size 432x288 with 1 Axes>"
      ]
     },
     "metadata": {
      "needs_background": "light"
     },
     "output_type": "display_data"
    }
   ],
   "source": [
    "# import missing libs\n",
    "from sklearn.metrics import silhouette_score\n",
    "\n",
    "# create a DataFrame\n",
    "data = pd.DataFrame({\"X\":[12, 15, 18, 10, 8, 9, 12, 20],\n",
    "                    \"Y\":[6, 16, 17, 8, 7, 6, 9, 18]})\n",
    "score_list = []\n",
    "\n",
    "# run a loop for different value of number of cluster\n",
    "for i in range(2, 6):\n",
    "    # create and fit the KMeans model\n",
    "    kmeans_model = KMeans(n_clusters = i, random_state=123)\n",
    "    kmeans_model.fit(data)\n",
    "    # make predictions\n",
    "    pred = kmeans_model.predict(data)\n",
    "    # calculate the Silhouette Score\n",
    "    score = silhouette_score(data, pred, metric='euclidean')\n",
    "    \n",
    "    # add the Silhouette score of the clusters to the score_list\n",
    "    score_list.append(score)\n",
    "    \n",
    "# plot the Silhouette score and number of cluster\n",
    "plt.bar(range(2, 6), score_list)\n",
    "    \n",
    "# set title of the plot\n",
    "plt.title('Silhouette Score Plot')\n",
    "    \n",
    "# set x-axis label\n",
    "plt.xlabel('Number of Clusters K')\n",
    "\n",
    "# set y-axis label\n",
    "plt.ylabel('Silhouette Scores')\n",
    "    \n",
    "# display plot\n",
    "plt.show()"
   ]
  },
  {
   "cell_type": "code",
   "execution_count": 2,
   "id": "bbcc1a8e",
   "metadata": {},
   "outputs": [
    {
     "data": {
      "image/png": "[encoded data removed]",
      "text/plain": [
       "<Figure size 432x288 with 1 Axes>"
      ]
     },
     "metadata": {
      "needs_background": "light"
     },
     "output_type": "display_data"
    }
   ],
   "source": [
    "# import pandas\n",
    "import pandas as pd\n",
    "\n",
    "# import matplotlib for data visualization\n",
    "import matplotlib.pyplot as plt\n",
    "\n",
    "# import K-means\n",
    "from sklearn.cluster import KMeans\n",
    "\n",
    "# create a DataFrame\n",
    "data = pd.DataFrame({\"X\":[12, 15, 18, 10, 8, 9, 12, 20],\n",
    "                    \"Y\":[6, 16, 17, 8, 7, 6, 9, 18]})\n",
    "\n",
    "# define number of clusters\n",
    "num_clusters = 2\n",
    "\n",
    "# create and fit the KMeans model\n",
    "km = KMeans(n_clusters=num_clusters)\n",
    "km.fit(data)\n",
    "\n",
    "# predict the target variable\n",
    "pred = km.predict(data)\n",
    "\n",
    "# plot the clusters\n",
    "plt.scatter(data.X, data.Y, c=pred, marker=\"o\", cmap=\"bwr_r\")\n",
    "\n",
    "# set title of the plot\n",
    "plt.title(\"K-Means Clustering\")\n",
    "\n",
    "# set x-axis label\n",
    "plt.xlabel('X-Axis Values')\n",
    "\n",
    "# set y-axis label\n",
    "plt.ylabel('Y-Axis Values')\n",
    "\n",
    "# display the plot\n",
    "plt.show()"
   ]
  },
  {
   "cell_type": "code",
   "execution_count": 3,
   "id": "f2571190",
   "metadata": {},
   "outputs": [
    {
     "data": {
      "image/png": "[encoded data removed]",
      "text/plain": [
       "<Figure size 432x288 with 1 Axes>"
      ]
     },
     "metadata": {
      "needs_background": "light"
     },
     "output_type": "display_data"
    }
   ],
   "source": [
    "# hierarchical clustering\n",
    "\n",
    "# import missing libs\n",
    "# import dendrogram\n",
    "from scipy.cluster.hierarchy import dendrogram\n",
    "from scipy.cluster.hierarchy import linkage\n",
    "\n",
    "# create a DataFrame\n",
    "data = pd.DataFrame({\"X\":[12, 15, 18, 10, 8, 9, 12, 20],\n",
    "                    \"Y\":[6, 16, 17, 8, 7, 6, 9, 18]})\n",
    "\n",
    "# create dendrogram using ward linkage\n",
    "dendrogram_plot = dendrogram(linkage(data, method = 'ward'))\n",
    "\n",
    "# set title of the plot\n",
    "plt.title('Hierarchical Clustering: Dendrogram')\n",
    "\n",
    "# set x-axis label\n",
    "plt.xlabel('Data Items')\n",
    "\n",
    "# set y-axis label\n",
    "plt.ylabel('Distance')\n",
    "\n",
    "# display the plot\n",
    "plt.show()"
   ]
  },
  {
   "cell_type": "code",
   "execution_count": 4,
   "id": "9357d383",
   "metadata": {},
   "outputs": [
    {
     "data": {
      "image/png": "[encoded data removed]",
      "text/plain": [
       "<Figure size 432x288 with 1 Axes>"
      ]
     },
     "metadata": {
      "needs_background": "light"
     },
     "output_type": "display_data"
    }
   ],
   "source": [
    "# import Agglomerative Clustering\n",
    "from sklearn.cluster import AgglomerativeClustering\n",
    "\n",
    "# create a DataFrame\n",
    "data = pd.DataFrame({\"X\":[12, 15, 18, 10, 8, 9, 12, 20],\n",
    "                    \"Y\":[6, 16, 17, 8, 7, 6, 9, 18]})\n",
    "\n",
    "# specify number of clusters\n",
    "num_clusters = 2\n",
    "\n",
    "# create agglomerative clustering model\n",
    "ac = AgglomerativeClustering(n_clusters=num_clusters, linkage = 'ward')\n",
    "\n",
    "# fit the Agglomerative Clustering model\n",
    "ac.fit(data)\n",
    "\n",
    "# predict the target variable\n",
    "pred = ac.labels_\n",
    "\n",
    "# plot the Clusters\n",
    "plt.scatter(data.X, data.Y, c=pred, marker='o')\n",
    "\n",
    "# set title of the plot\n",
    "plt.title('Agglomerative Clustering')\n",
    "\n",
    "# set x-axis label\n",
    "plt.xlabel('X-Axis Values')\n",
    "\n",
    "# set y-axis label\n",
    "plt.ylabel('Y-Axis Values')\n",
    "\n",
    "# display the plot\n",
    "plt.show()"
   ]
  },
  {
   "cell_type": "code",
   "execution_count": 6,
   "id": "01224015",
   "metadata": {},
   "outputs": [
    {
     "data": {
      "image/png": "[encoded data removed]",
      "text/plain": [
       "<Figure size 432x288 with 1 Axes>"
      ]
     },
     "metadata": {
      "needs_background": "light"
     },
     "output_type": "display_data"
    }
   ],
   "source": [
    "# DBSCAN clustering\n",
    "\n",
    "# import missing libs\n",
    "from sklearn.cluster import DBSCAN\n",
    "\n",
    "# import make_moons dataset\n",
    "from sklearn.datasets import make_moons\n",
    "\n",
    "# generate some random moon data\n",
    "features, label = make_moons(n_samples=2000)\n",
    "\n",
    "# create DBSCAN clustering model\n",
    "db = DBSCAN()\n",
    "\n",
    "# fit the Spectral Clustering model\n",
    "db.fit(features)\n",
    "\n",
    "# predict the target variable\n",
    "pred_label = db.labels_\n",
    "\n",
    "# plot the Clusters\n",
    "plt.scatter(features[:, 0], features[:, 1], c=pred_label,\n",
    "           marker=\"o\", cmap=\"bwr_r\")\n",
    "\n",
    "# set title of the plot\n",
    "plt.title(\"DBSCAN Clustering\")\n",
    "\n",
    "# set x-axis label\n",
    "plt.xlabel('X-Axis Values')\n",
    "\n",
    "# set y-axis label\n",
    "plt.ylabel('Y-Axis Values')\n",
    "\n",
    "# display the plot\n",
    "plt.show()"
   ]
  },
  {
   "cell_type": "code",
   "execution_count": 7,
   "id": "ff59d87d",
   "metadata": {},
   "outputs": [],
   "source": [
    "# spectral clustering - book\n",
    "# evaluating clustering performance - book\n",
    "# external performance evaluation - book"
   ]
  }
 ],
 "metadata": {
  "kernelspec": {
   "display_name": "Python 3 (ipykernel)",
   "language": "python",
   "name": "python3"
  },
  "language_info": {
   "codemirror_mode": {
    "name": "ipython",
    "version": 3
   },
   "file_extension": ".py",
   "mimetype": "text/x-python",
   "name": "python",
   "nbconvert_exporter": "python",
   "pygments_lexer": "ipython3",
   "version": "3.9.12"
  }
 },
 "nbformat": 4,
 "nbformat_minor": 5
}
