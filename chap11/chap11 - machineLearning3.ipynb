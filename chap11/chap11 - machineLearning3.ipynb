{
 "cells": [
  {
   "cell_type": "code",
   "execution_count": 1,
   "id": "fba9da44",
   "metadata": {},
   "outputs": [
    {
     "name": "stdout",
     "output_type": "stream",
     "text": [
      "Eigenvalues:  [8.27394258+0.j 3.67612927+0.j]\n",
      "Eigenvector:  [[-0.1375708   0.69903712]\n",
      " [-0.25045969  0.66088917]\n",
      " [ 0.95830278  0.27307986]]\n",
      "Sorted and Selected Eigen Values:  [8.27394258+0.j 3.67612927+0.j]\n",
      "Sorted and Selected Eigen Vector:  [[-0.1375708   0.69903712]\n",
      " [-0.25045969  0.66088917]\n",
      " [ 0.95830278  0.27307986]]\n",
      "Principal Components:  [[-2.15142276 -0.17311941]\n",
      " [ 3.80418259 -2.88749898]\n",
      " [ 0.15321328 -0.98688598]\n",
      " [-4.7065185   1.30153634]\n",
      " [ 1.29375788  2.27912632]\n",
      " [ 4.0993133   0.1435814 ]\n",
      " [-1.62582148 -2.23208282]\n",
      " [ 2.11448986  3.2512433 ]\n",
      " [-0.2348172   0.37304031]\n",
      " [-2.74637697 -1.06894049]]\n"
     ]
    }
   ],
   "source": [
    "## unsupervised learning - PCA and Clustering\n",
    "\n",
    "# import numpy\n",
    "import numpy as np\n",
    "\n",
    "# import linear algebra module\n",
    "from scipy import linalg as la\n",
    "\n",
    "# create dataset\n",
    "data = np.array(\n",
    "    [[7., 4., 3.],\n",
    "    [4., 1., 8.],\n",
    "    [6., 3., 5.],\n",
    "    [8., 6., 1.],\n",
    "    [8., 5., 7.],\n",
    "    [7., 2., 9.],\n",
    "    [5., 3., 3.],\n",
    "    [9., 5., 8.],\n",
    "    [7., 4., 5.],\n",
    "    [8., 2., 2.]]\n",
    ")\n",
    "\n",
    "# calculate the covariance matrix\n",
    "# center your data\n",
    "data -= data.mean(axis=0)\n",
    "cov = np.cov(data, rowvar=False)\n",
    "\n",
    "# calculate eigenvalues and eigenvector of the covariance matrix\n",
    "evals, evecs = la.eig(cov)\n",
    "\n",
    "# multiply the original data matrix with eigenvector matrix\n",
    "num_components = 2\n",
    "sorted_key = np.argsort(evals)[::-1][:num_components]\n",
    "evals, evecs = evals[sorted_key], evecs[:, sorted_key]\n",
    "\n",
    "print(\"Eigenvalues: \", evals)\n",
    "print(\"Eigenvector: \", evecs)\n",
    "print(\"Sorted and Selected Eigen Values: \", evals)\n",
    "print(\"Sorted and Selected Eigen Vector: \", evecs)\n",
    "\n",
    "# multiply orginal data and Eigen vector\n",
    "principal_components = np.dot(data, evecs)\n",
    "print(\"Principal Components: \", principal_components)"
   ]
  },
  {
   "cell_type": "code",
   "execution_count": 2,
   "id": "4d0e318b",
   "metadata": {},
   "outputs": [
    {
     "name": "stdout",
     "output_type": "stream",
     "text": [
      "   principal_component_1  principal_component_2\n",
      "0               2.151423              -0.173119\n",
      "1              -3.804183              -2.887499\n",
      "2              -0.153213              -0.986886\n",
      "3               4.706518               1.301536\n",
      "4              -1.293758               2.279126\n",
      "5              -4.099313               0.143581\n",
      "6               1.625821              -2.232083\n",
      "7              -2.114490               3.251243\n",
      "8               0.234817               0.373040\n",
      "9               2.746377              -1.068940\n"
     ]
    }
   ],
   "source": [
    "# import pandas and PCA\n",
    "import pandas as pd\n",
    "\n",
    "# import principal component analysis\n",
    "from sklearn.decomposition import PCA\n",
    "\n",
    "# create dataset\n",
    "data = np.array([[7., 4., 3.],\n",
    "                 [4., 1., 8.],\n",
    "                 [6., 3., 5.],\n",
    "                 [8., 6., 1.],\n",
    "                 [8., 5., 7.],\n",
    "                 [7., 2., 9.],\n",
    "                 [5., 3., 3.],\n",
    "                 [9., 5., 8.],\n",
    "                 [7., 4., 5.],\n",
    "                 [8., 2., 2.]])\n",
    "\n",
    "# create and fit_transformed PCA Model\n",
    "pca_model = PCA(n_components=2)\n",
    "components = pca_model.fit_transform(data)\n",
    "components_df = pd.DataFrame(data = components,\n",
    "columns = ['principal_component_1', 'principal_component_2'])\n",
    "print(components_df)"
   ]
  },
  {
   "cell_type": "code",
   "execution_count": null,
   "id": "8754b963",
   "metadata": {},
   "outputs": [],
   "source": []
  }
 ],
 "metadata": {
  "kernelspec": {
   "display_name": "Python 3 (ipykernel)",
   "language": "python",
   "name": "python3"
  },
  "language_info": {
   "codemirror_mode": {
    "name": "ipython",
    "version": 3
   },
   "file_extension": ".py",
   "mimetype": "text/x-python",
   "name": "python",
   "nbconvert_exporter": "python",
   "pygments_lexer": "ipython3",
   "version": "3.9.12"
  }
 },
 "nbformat": 4,
 "nbformat_minor": 5
}
