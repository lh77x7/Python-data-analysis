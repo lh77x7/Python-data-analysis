{
 "cells": [
  {
   "cell_type": "code",
   "execution_count": 2,
   "id": "09e64804",
   "metadata": {},
   "outputs": [
    {
     "data": {
      "text/html": [
       "<div>\n",
       "<style scoped>\n",
       "    .dataframe tbody tr th:only-of-type {\n",
       "        vertical-align: middle;\n",
       "    }\n",
       "\n",
       "    .dataframe tbody tr th {\n",
       "        vertical-align: top;\n",
       "    }\n",
       "\n",
       "    .dataframe thead th {\n",
       "        text-align: right;\n",
       "    }\n",
       "</style>\n",
       "<table border=\"1\" class=\"dataframe\">\n",
       "  <thead>\n",
       "    <tr style=\"text-align: right;\">\n",
       "      <th></th>\n",
       "      <th>pregnant</th>\n",
       "      <th>glucose</th>\n",
       "      <th>bp</th>\n",
       "      <th>skin</th>\n",
       "      <th>insulin</th>\n",
       "      <th>bmi</th>\n",
       "      <th>pedigree</th>\n",
       "      <th>age</th>\n",
       "      <th>label</th>\n",
       "    </tr>\n",
       "  </thead>\n",
       "  <tbody>\n",
       "    <tr>\n",
       "      <th>0</th>\n",
       "      <td>6</td>\n",
       "      <td>148</td>\n",
       "      <td>72</td>\n",
       "      <td>35</td>\n",
       "      <td>0</td>\n",
       "      <td>33.6</td>\n",
       "      <td>0.627</td>\n",
       "      <td>50</td>\n",
       "      <td>1</td>\n",
       "    </tr>\n",
       "    <tr>\n",
       "      <th>1</th>\n",
       "      <td>1</td>\n",
       "      <td>85</td>\n",
       "      <td>66</td>\n",
       "      <td>29</td>\n",
       "      <td>0</td>\n",
       "      <td>26.6</td>\n",
       "      <td>0.351</td>\n",
       "      <td>31</td>\n",
       "      <td>0</td>\n",
       "    </tr>\n",
       "    <tr>\n",
       "      <th>2</th>\n",
       "      <td>8</td>\n",
       "      <td>183</td>\n",
       "      <td>64</td>\n",
       "      <td>0</td>\n",
       "      <td>0</td>\n",
       "      <td>23.3</td>\n",
       "      <td>0.672</td>\n",
       "      <td>32</td>\n",
       "      <td>1</td>\n",
       "    </tr>\n",
       "    <tr>\n",
       "      <th>3</th>\n",
       "      <td>1</td>\n",
       "      <td>89</td>\n",
       "      <td>66</td>\n",
       "      <td>23</td>\n",
       "      <td>94</td>\n",
       "      <td>28.1</td>\n",
       "      <td>0.167</td>\n",
       "      <td>21</td>\n",
       "      <td>0</td>\n",
       "    </tr>\n",
       "    <tr>\n",
       "      <th>4</th>\n",
       "      <td>0</td>\n",
       "      <td>137</td>\n",
       "      <td>40</td>\n",
       "      <td>35</td>\n",
       "      <td>168</td>\n",
       "      <td>43.1</td>\n",
       "      <td>2.288</td>\n",
       "      <td>33</td>\n",
       "      <td>1</td>\n",
       "    </tr>\n",
       "  </tbody>\n",
       "</table>\n",
       "</div>"
      ],
      "text/plain": [
       "   pregnant  glucose  bp  skin  insulin   bmi  pedigree  age  label\n",
       "0         6      148  72    35        0  33.6     0.627   50      1\n",
       "1         1       85  66    29        0  26.6     0.351   31      0\n",
       "2         8      183  64     0        0  23.3     0.672   32      1\n",
       "3         1       89  66    23       94  28.1     0.167   21      0\n",
       "4         0      137  40    35      168  43.1     2.288   33      1"
      ]
     },
     "execution_count": 2,
     "metadata": {},
     "output_type": "execute_result"
    }
   ],
   "source": [
    "# import libraries\n",
    "import pandas as pd\n",
    "\n",
    "# read the dataset\n",
    "diabetes = pd.read_csv(\"diabetes.csv\")\n",
    "\n",
    "# show top 5-records\n",
    "diabetes.head()"
   ]
  },
  {
   "cell_type": "code",
   "execution_count": 3,
   "id": "27d3563d",
   "metadata": {},
   "outputs": [],
   "source": [
    "# split dataset in two parts: feature set and target set\n",
    "feature_set = ['pregnant', 'insulin', 'bmi', 'age', 'glucose', 'bp', 'pedigree']\n",
    "features = diabetes[feature_set]\n",
    "target = diabetes.label\n",
    "\n",
    "# partition data into training and testing set\n",
    "from sklearn.model_selection import train_test_split\n",
    "\n",
    "feature_train, feature_test, target_train, target_test = \\\n",
    "train_test_split(features, target, test_size=0.3, random_state=1)"
   ]
  },
  {
   "cell_type": "code",
   "execution_count": 10,
   "id": "07fe3bd0",
   "metadata": {},
   "outputs": [],
   "source": [
    "## import Gaussian Naive Bayes model\n",
    "from sklearn.naive_bayes import GaussianNB\n",
    "\n",
    "# create a Gaussian Classifier\n",
    "model = GaussianNB()\n",
    "\n",
    "# train the model using the training sets\n",
    "model.fit(feature_train, target_train)\n",
    "\n",
    "# forecast the target variable for given test dataset\n",
    "predictions = model.predict(feature_test)"
   ]
  },
  {
   "cell_type": "code",
   "execution_count": 12,
   "id": "b9a78b67",
   "metadata": {},
   "outputs": [
    {
     "name": "stdout",
     "output_type": "stream",
     "text": [
      "Accuracy:  0.7748917748917749\n",
      "Precision:  0.7391304347826086\n",
      "Recall:  0.6\n",
      "F1-Score:  0.6623376623376623\n"
     ]
    }
   ],
   "source": [
    "# import metrics module for performance evaluation\n",
    "from sklearn.metrics import accuracy_score\n",
    "from sklearn.metrics import precision_score\n",
    "from sklearn.metrics import recall_score\n",
    "from sklearn.metrics import f1_score\n",
    "\n",
    "# calculate model accuracy\n",
    "print(\"Accuracy: \", accuracy_score(target_test, predictions))\n",
    "\n",
    "# calculate model precision\n",
    "print(\"Precision: \", precision_score(target_test, predictions))\n",
    "\n",
    "# calculate model recall\n",
    "print(\"Recall: \", recall_score(target_test, predictions))\n",
    "\n",
    "# calculate model f1 score\n",
    "print(\"F1-Score: \", f1_score(target_test, predictions))"
   ]
  },
  {
   "cell_type": "code",
   "execution_count": 15,
   "id": "9d5614e9",
   "metadata": {},
   "outputs": [],
   "source": [
    "## import Decision Tree model\n",
    "from sklearn.tree import DecisionTreeClassifier\n",
    "\n",
    "# create a Decision Tree classifier object\n",
    "clf = DecisionTreeClassifier()\n",
    "\n",
    "# train the model using training dataset\n",
    "clf = clf.fit(feature_train, target_train)\n",
    "\n",
    "# predict the response for test dataset\n",
    "predictions = clf.predict(feature_test)"
   ]
  },
  {
   "cell_type": "code",
   "execution_count": 16,
   "id": "213c3ee2",
   "metadata": {},
   "outputs": [
    {
     "name": "stdout",
     "output_type": "stream",
     "text": [
      "Accuracy:  0.683982683982684\n",
      "Prediction:  0.5769230769230769\n",
      "Recall:  0.5294117647058824\n",
      "F1-Score:  0.5521472392638036\n"
     ]
    }
   ],
   "source": [
    "# calculate model accuracy\n",
    "print(\"Accuracy: \", accuracy_score(target_test, predictions))\n",
    "\n",
    "# calculate model prediction\n",
    "print(\"Prediction: \", precision_score(target_test, predictions))\n",
    "\n",
    "# calculate model recall\n",
    "print(\"Recall: \", recall_score(target_test, predictions))\n",
    "\n",
    "# calculate model f1 score\n",
    "print(\"F1-Score: \", f1_score(target_test, predictions))"
   ]
  },
  {
   "cell_type": "code",
   "execution_count": 4,
   "id": "b07d10df",
   "metadata": {},
   "outputs": [],
   "source": [
    "## import KNN model\n",
    "from sklearn.neighbors import KNeighborsClassifier\n",
    "\n",
    "# create a KNN classifier object\n",
    "model = KNeighborsClassifier(n_neighbors=3)\n",
    "\n",
    "# train the model using the training dataset\n",
    "model.fit(feature_train, target_train)\n",
    "\n",
    "# predict the target variable for test dataset\n",
    "predictions = model.predict(feature_test)"
   ]
  },
  {
   "cell_type": "code",
   "execution_count": 5,
   "id": "dbc3807e",
   "metadata": {},
   "outputs": [
    {
     "name": "stdout",
     "output_type": "stream",
     "text": [
      "Accuracy:  0.7532467532467533\n",
      "Precision:  0.7058823529411765\n",
      "Recall:  0.5647058823529412\n",
      "F1-Score:  0.6274509803921569\n"
     ]
    }
   ],
   "source": [
    "# import metrics module for performance evaluation\n",
    "from sklearn.metrics import accuracy_score\n",
    "from sklearn.metrics import precision_score\n",
    "from sklearn.metrics import recall_score\n",
    "from sklearn.metrics import f1_score\n",
    "\n",
    "# calculate model accuracy\n",
    "print(\"Accuracy: \", accuracy_score(target_test, predictions))\n",
    "\n",
    "# calculate model precision\n",
    "print(\"Precision: \", precision_score(target_test, predictions))\n",
    "\n",
    "# calculate model recall\n",
    "print(\"Recall: \", recall_score(target_test, predictions))\n",
    "\n",
    "# calculate model f1 score\n",
    "print(\"F1-Score: \", f1_score(target_test, predictions))"
   ]
  },
  {
   "cell_type": "code",
   "execution_count": 7,
   "id": "13030b84",
   "metadata": {},
   "outputs": [],
   "source": [
    "## import SVM classification\n",
    "\n",
    "# import SVM model\n",
    "from sklearn import svm\n",
    "\n",
    "# create a SVM classifier object\n",
    "clf = svm.SVC(kernel='linear')\n",
    "\n",
    "# train the model using the training sets\n",
    "clf.fit(feature_train, target_train)\n",
    "\n",
    "# predict the target variable for test dataset\n",
    "predictions = clf.predict(feature_test)"
   ]
  },
  {
   "cell_type": "code",
   "execution_count": 8,
   "id": "eee31e46",
   "metadata": {},
   "outputs": [
    {
     "name": "stdout",
     "output_type": "stream",
     "text": [
      "Accuracy:  0.7835497835497836\n",
      "Precision:  0.7868852459016393\n",
      "Recall:  0.5647058823529412\n",
      "F1-Score:  0.6575342465753424\n"
     ]
    }
   ],
   "source": [
    "# calculate model accuracy\n",
    "print(\"Accuracy: \", accuracy_score(target_test, predictions))\n",
    "\n",
    "# calculate model precision\n",
    "print(\"Precision: \", precision_score(target_test, predictions))\n",
    "\n",
    "# calculate model recall\n",
    "print(\"Recall: \", recall_score(target_test, predictions))\n",
    "\n",
    "# calculate model f1 score\n",
    "print(\"F1-Score: \", f1_score(target_test, predictions))"
   ]
  },
  {
   "cell_type": "code",
   "execution_count": 9,
   "id": "dc5ce58c",
   "metadata": {},
   "outputs": [
    {
     "name": "stderr",
     "output_type": "stream",
     "text": [
      "C:\\Users\\Admin\\anaconda3\\lib\\site-packages\\sklearn\\utils\\deprecation.py:87: FutureWarning: Function plot_confusion_matrix is deprecated; Function `plot_confusion_matrix` is deprecated in 1.0 and will be removed in 1.2. Use one of the class methods: ConfusionMatrixDisplay.from_predictions or ConfusionMatrixDisplay.from_estimator.\n",
      "  warnings.warn(msg, category=FutureWarning)\n"
     ]
    },
    {
     "data": {
      "text/plain": [
       "<sklearn.metrics._plot.confusion_matrix.ConfusionMatrixDisplay at 0x294fd917c10>"
      ]
     },
     "execution_count": 9,
     "metadata": {},
     "output_type": "execute_result"
    },
    {
     "data": {
      "image/png": "[encoded data removed]",
      "text/plain": [
       "<Figure size 432x288 with 2 Axes>"
      ]
     },
     "metadata": {
      "needs_background": "light"
     },
     "output_type": "display_data"
    }
   ],
   "source": [
    "# import libs\n",
    "import pandas as pd\n",
    "\n",
    "# read the dataset\n",
    "diabets = pd.read_csv(\"diabetes.csv\")\n",
    "\n",
    "# split dataset in two parts: feature set and target label\n",
    "feature_set = ['pregnant', 'bmi', 'age', 'glucose', 'bp', 'pedigree']\n",
    "features = diabets[feature_set]\n",
    "\n",
    "target = diabetes.label\n",
    "\n",
    "# partition data into training and testing set\n",
    "from sklearn.model_selection import train_test_split\n",
    "feature_train, feature_test, target_train, target_test = \\\n",
    "train_test_split(features, target, test_size=0.3, random_state=1)\n",
    "\n",
    "# import logistic regression scikit-learn model\n",
    "from sklearn.linear_model import LogisticRegression\n",
    "from sklearn.metrics import accuracy_score # from performance evaluation\n",
    "\n",
    "# instantiate the model\n",
    "logreg = LogisticRegression(solver='lbfgs')\n",
    "\n",
    "# fit the model with data\n",
    "logreg.fit(feature_train, target_train)\n",
    "\n",
    "# forcast the target variable for given test dataset\n",
    "predictions = logreg.predict(feature_test)\n",
    "\n",
    "# get prediction probability\n",
    "predictions_prob = logreg.predict_proba(feature_test)[::,1]\n",
    "\n",
    "# import the confusion matrix\n",
    "from sklearn.metrics import plot_confusion_matrix\n",
    "\n",
    "# plot Confusion matrix\n",
    "plot_confusion_matrix(logreg, feature_test, target_test, values_format='d')"
   ]
  },
  {
   "cell_type": "code",
   "execution_count": 10,
   "id": "d67dfcb0",
   "metadata": {},
   "outputs": [
    {
     "name": "stdout",
     "output_type": "stream",
     "text": [
      "              precision    recall  f1-score   support\n",
      "\n",
      "      Yes(1)       0.78      0.90      0.84       146\n",
      "       No(0)       0.77      0.56      0.65        85\n",
      "\n",
      "    accuracy                           0.78       231\n",
      "   macro avg       0.78      0.73      0.75       231\n",
      "weighted avg       0.78      0.78      0.77       231\n",
      "\n"
     ]
    }
   ],
   "source": [
    "# import classification report\n",
    "from sklearn.metrics import classification_report\n",
    "\n",
    "# create classification report\n",
    "print(classification_report(target_test, predictions, target_names=['Yes(1)', 'No(0)']))"
   ]
  },
  {
   "cell_type": "code",
   "execution_count": 11,
   "id": "e0fceefb",
   "metadata": {},
   "outputs": [
    {
     "name": "stderr",
     "output_type": "stream",
     "text": [
      "C:\\Users\\Admin\\anaconda3\\lib\\site-packages\\sklearn\\utils\\deprecation.py:87: FutureWarning: Function plot_roc_curve is deprecated; Function :func:`plot_roc_curve` is deprecated in 1.0 and will be removed in 1.2. Use one of the class methods: :meth:`sklearn.metric.RocCurveDisplay.from_predictions` or :meth:`sklearn.metric.RocCurveDisplay.from_estimator`.\n",
      "  warnings.warn(msg, category=FutureWarning)\n"
     ]
    },
    {
     "data": {
      "text/plain": [
       "<sklearn.metrics._plot.roc_curve.RocCurveDisplay at 0x29486c48af0>"
      ]
     },
     "execution_count": 11,
     "metadata": {},
     "output_type": "execute_result"
    },
    {
     "data": {
      "image/png": "[encoded data removed]",
      "text/plain": [
       "<Figure size 432x288 with 1 Axes>"
      ]
     },
     "metadata": {
      "needs_background": "light"
     },
     "output_type": "display_data"
    }
   ],
   "source": [
    "# import plot_roc_curve\n",
    "from sklearn.metrics import plot_roc_curve\n",
    "\n",
    "plot_roc_curve(logreg, feature_test, target_test)"
   ]
  },
  {
   "cell_type": "code",
   "execution_count": 12,
   "id": "7dc38e09",
   "metadata": {},
   "outputs": [
    {
     "name": "stdout",
     "output_type": "stream",
     "text": [
      "Area Under Curve:  0.8614826752618856\n"
     ]
    }
   ],
   "source": [
    "# import ROC AUC score\n",
    "from sklearn.metrics import roc_auc_score\n",
    "\n",
    "# compute the area under ROC curve\n",
    "auc = roc_auc_score(target_test, predictions_prob)\n",
    "\n",
    "# print auc value\n",
    "print(\"Area Under Curve: \", auc)"
   ]
  },
  {
   "cell_type": "code",
   "execution_count": null,
   "id": "5e56f62c",
   "metadata": {},
   "outputs": [],
   "source": []
  }
 ],
 "metadata": {
  "kernelspec": {
   "display_name": "Python 3 (ipykernel)",
   "language": "python",
   "name": "python3"
  },
  "language_info": {
   "codemirror_mode": {
    "name": "ipython",
    "version": 3
   },
   "file_extension": ".py",
   "mimetype": "text/x-python",
   "name": "python",
   "nbconvert_exporter": "python",
   "pygments_lexer": "ipython3",
   "version": "3.9.12"
  }
 },
 "nbformat": 4,
 "nbformat_minor": 5
}
